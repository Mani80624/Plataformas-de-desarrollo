{
 "cells": [
  {
   "cell_type": "markdown",
   "id": "f5822a97-40a8-48a0-89f5-d41e5053c67e",
   "metadata": {},
   "source": [
    "11/03/25\n",
    "# Discretización de variables\n",
    "\n",
    "1. Discretización por intervales de igual Amplitud\n",
    "2. Discretización por Cuantil\n",
    "3. Discretización por Kmeans\n",
    "4. Discretización por entropia"
   ]
  },
  {
   "cell_type": "markdown",
   "id": "4594d5c9-e0b2-4be7-92d9-f65ed3335dd7",
   "metadata": {},
   "source": [
    "Tareas complejas de mineria de datos o aprendizaje autómatico, pueden demorar mucho tiempo en ejecutarse sobre el conjunto de datos complejos, ante esta situación surge la opción de la reducción de la dimensionalidad, cuyo objetivo es buscar una representación reducida del conjunto de datos que es mucho más pqueña en valumen, pero produce los mismos (o casi iguales) resultados. Las estrategias de reducción de datos son:\n",
    "\n",
    "* Agregación del cubo de datos\n",
    "* Discretización y reducción de la dimensionalidad\n",
    "\n",
    "## Métodos Top-Down\n",
    "Se inicia con una lista vacía de puntos de corte y se continuan agregando nuevos puntos a la lista \"separando\" los intervalos mientras la discretización progresa.\n",
    "\n",
    "## Métodos Bottom-Up\n",
    "Se inicia con la lista completa de todos los valores continuos de la variabo como puntos de corte y se eliminan algunos de ellos \"juntando\" los intercalos mientras la Discretización progresa\n",
    "\n",
    "**Esto puede dar origen a una nueva Discretización**\n",
    "\n",
    "## Discretización dinámica\n",
    "Algunos algoritmos de clasificación tienen incorporados mecanismos para discretizar atributos continuos (por ejemplo, árboles de decisión). Los atributos continuos son discretizados durante el proceso de clasificación.\n",
    "\n",
    "## Discretización Estática\n",
    "Es un paso más en el *preprocesamiento de datos*. Los atributos continuos son previamente discretizados antes de la tarea de clasificación\n",
    "\n",
    "**Cosas a considerar:**\n",
    "- No existe una ventaja clara de algunos de los métodos\n",
    "- También es conocido como \"Binning\".\n",
    "\n",
    "# Supervisados vs No Supervisados\n",
    "**Los métodos supervisados**, solo son aplicables cuando se trabaja con datos que están divididas en clases. Estos métodos utilizan la información de la clase cuando se seleccionan los puntos de corte en la discretización.\n",
    "\n",
    "**Los métoodos No supervisados**, no utilizan la información de la clase.\n",
    "\n",
    "**Los métodos supervisados** pueden además ser caracterizados como basados en error, basados en entropia o basados en estadística:\n",
    "\n",
    "Los basadoe en error aplican un clasidicador a los datos transformados y seleccionan los intervalos que minimizan el error en el conjunto de entrenamiento. En contraste, los métodos basados en entropía y los basados en estadísticas evalúan respecto entre los intervalos de la clase.\n",
    "\n",
    "Por ejemplo: la entropia cruzada es una popular función de perdida en el aprendizaje autómatico para medir el rendimiento de un modelo de clasificación. Es decir, mide la diferencia entre la distribución de la probabilidad descubierta de un modelo de clasificación y los valores predichos."
   ]
  },
  {
   "cell_type": "code",
   "execution_count": 3,
   "id": "3ff28c91-405f-49a1-b3de-baf4104cfe7d",
   "metadata": {},
   "outputs": [],
   "source": [
    "import os\n",
    "import pandas as pd\n",
    "import matplotlib.pyplot as plt\n",
    "import seaborn as sns\n",
    "import numpy as np\n",
    "os.chdir(\"/home/manuel/Documentos/CLases_MCD&SIS/data_11\")"
   ]
  },
  {
   "cell_type": "code",
   "execution_count": 4,
   "id": "0b5894e8-7897-415c-a69c-2313690fa0e0",
   "metadata": {},
   "outputs": [
    {
     "name": "stdout",
     "output_type": "stream",
     "text": [
      "<class 'pandas.core.frame.DataFrame'>\n",
      "RangeIndex: 19375 entries, 0 to 19374\n",
      "Data columns (total 6 columns):\n",
      " #   Column     Non-Null Count  Dtype\n",
      "---  ------     --------------  -----\n",
      " 0   genero     19375 non-null  int64\n",
      " 1   est_civil  19375 non-null  int64\n",
      " 2   tpers      19375 non-null  int64\n",
      " 3   cal        19375 non-null  int64\n",
      " 4   edad       19375 non-null  int64\n",
      " 5   clase      19375 non-null  int64\n",
      "dtypes: int64(6)\n",
      "memory usage: 908.3 KB\n"
     ]
    }
   ],
   "source": [
    "df = pd.read_csv(\"data.csv\", sep=',')\n",
    "df.info()"
   ]
  },
  {
   "cell_type": "markdown",
   "id": "07fa47ce-2e1f-4cd2-8a87-e1aa20641e8a",
   "metadata": {},
   "source": [
    "# Método Sturges para discretizar\n",
    "- Sturges: \n",
    "$$k = 1 + \\log_2(n) = 1 + 3.322 \\log_{10}(n)$$\n",
    "Donde $k$ es el número de clases\n",
    "\n",
    "    $n$ es el número de datos de la población\n",
    "\n",
    "- Friedman-Diaconis:\n",
    "  \n",
    "  $$C= 2 \\times \\frac{RIC}{n^{\\frac{1}{3}}}$$,\n",
    "  donde $RIC$ es el intervalo intercuartilico\n",
    "- Scott:\n",
    "  $$C= 3.5 \\frac{s}{n^{\\frac{1}{3}}}$$\n",
    "-> Para Friedman - Diacononis y Scott luego se calcula:\n",
    "  $$k = \\frac{(Xmax - Xmin)}{C}$$\n",
    "\n",
    "Proceso:\n",
    "\n",
    "- Es similar a la elaboración de tablas de frecuencia y de contingencia\n",
    "- Se divide el rango de la variable en $k$ intervalos de igual tamaño\n",
    "- Se divide $xmin$ y $xmax$ el valor mínimo y máximo de la variable, el ancho de 1 intervalo es:\n",
    "  $$C = \\frac{(Xmax- X min)}{k}$$\n",
    "- Donde k es determinado por una regla\n",
    "- Luego los puntos de corte son dados por:\n",
    "  $$Xmin + C, Xmin+2c,...Xmin + (k-1)C$$\n",
    "\n",
    "**Desventajas:** no supervisado, sensible a outfiliers ventajas: Fácil de interpretar. Produce una abstracción de los datos razonables."
   ]
  },
  {
   "cell_type": "code",
   "execution_count": 6,
   "id": "9d6ee394-682d-4e56-b67e-f76919c69065",
   "metadata": {},
   "outputs": [],
   "source": [
    "from sklearn.preprocessing import KBinsDiscretizer\n",
    "import math"
   ]
  },
  {
   "cell_type": "code",
   "execution_count": 7,
   "id": "66316e47-6577-4055-bd9e-20079848608a",
   "metadata": {},
   "outputs": [
    {
     "data": {
      "text/plain": [
       "15.0"
      ]
     },
     "execution_count": 7,
     "metadata": {},
     "output_type": "execute_result"
    }
   ],
   "source": [
    "# implementando struges\n",
    "n = len(df)\n",
    "k = 1 + math.log2(n)\n",
    "k = round(k,0)\n",
    "k"
   ]
  },
  {
   "cell_type": "code",
   "execution_count": null,
   "id": "602ede43-d2fa-49c4-ae31-341ef152a6c5",
   "metadata": {},
   "outputs": [],
   "source": []
  },
  {
   "cell_type": "code",
   "execution_count": 8,
   "id": "e41b1a0c-22b5-440a-9235-0700142589d8",
   "metadata": {},
   "outputs": [],
   "source": [
    "xmin = df.edad.min()\n",
    "xmax = df.edad.max()"
   ]
  },
  {
   "cell_type": "code",
   "execution_count": 9,
   "id": "604041f1-f0de-4341-8854-0870a2847e52",
   "metadata": {},
   "outputs": [
    {
     "data": {
      "text/plain": [
       "6.0"
      ]
     },
     "execution_count": 9,
     "metadata": {},
     "output_type": "execute_result"
    }
   ],
   "source": [
    "# Amplitud de la clase\n",
    "c = (xmax - xmin)/ k\n",
    "c"
   ]
  },
  {
   "cell_type": "code",
   "execution_count": 10,
   "id": "560cd60c-99c8-4e8c-99c7-65437f0059f9",
   "metadata": {
    "scrolled": true
   },
   "outputs": [
    {
     "data": {
      "text/plain": [
       "(0, 6.0, 12.0, 18.0, '...', 84.0)"
      ]
     },
     "execution_count": 10,
     "metadata": {},
     "output_type": "execute_result"
    }
   ],
   "source": [
    "xmin,xmin + c, xmin + 2*c, xmin + 3*c,'...', xmin+(k-1)*c"
   ]
  },
  {
   "cell_type": "markdown",
   "id": "213220b0-479c-4a4b-920d-14f70e398603",
   "metadata": {},
   "source": [
    "Verificar las cuáles son las clases formadas:"
   ]
  },
  {
   "cell_type": "code",
   "execution_count": 12,
   "id": "dcbd8f76-75c9-408d-b95f-3dd067191709",
   "metadata": {},
   "outputs": [
    {
     "name": "stdout",
     "output_type": "stream",
     "text": [
      "1.\t(0.0, 6.0)\n",
      "2.\t(6.0, 12.0)\n",
      "3.\t(12.0, 18.0)\n",
      "4.\t(18.0, 24.0)\n",
      "5.\t(24.0, 30.0)\n",
      "6.\t(30.0, 36.0)\n",
      "7.\t(36.0, 42.0)\n",
      "8.\t(42.0, 48.0)\n",
      "9.\t(48.0, 54.0)\n",
      "10.\t(54.0, 60.0)\n",
      "11.\t(60.0, 66.0)\n",
      "12.\t(66.0, 72.0)\n",
      "13.\t(72.0, 78.0)\n",
      "14.\t(78.0, 84.0)\n",
      "15.\t(84.0, 90.0)\n"
     ]
    }
   ],
   "source": [
    "k = int(k)\n",
    "for i in range(0,k):\n",
    "    tupla = (xmin + i*c, xmin + (i+1)*c)\n",
    "    print(f'{i+1}.\\t{tupla}')\n",
    "\n",
    "k = float(k)"
   ]
  },
  {
   "cell_type": "markdown",
   "id": "53380f82-153f-40ae-a801-fea556cf637c",
   "metadata": {},
   "source": [
    "**Strategy**\n",
    "\n",
    "*Uniforme*: la discretización es uniforme en cada característica, lo que significa que los anchos de los intervalos son constantes en cada dimensión\n",
    "\n",
    "*Cuantil*: la discretización se realiza sobre los valores cuantilados, lo que significa que cada intervalo tiene aproximadamente el mismo número de muestras\n",
    "\n",
    "*kmeans*: la discretización se basa en los centroides d eun procesamiento de agrupación de KMEANS, el centroide es un punto que representa el centro geométrico de una figura objetos o región, también se le conoce como centro de gravedad o centro de simentría.\n"
   ]
  },
  {
   "cell_type": "code",
   "execution_count": 14,
   "id": "82d0002f-4b4b-4ba5-91b7-c1fc04962a49",
   "metadata": {},
   "outputs": [],
   "source": [
    "C = KBinsDiscretizer(n_bins=15, encode='ordinal', strategy='uniform')"
   ]
  },
  {
   "cell_type": "code",
   "execution_count": 15,
   "id": "7a8de810-0f24-4a55-afac-0e4536189e5b",
   "metadata": {},
   "outputs": [],
   "source": [
    "edad_disc_sturges = C.fit_transform(df[['edad']])"
   ]
  },
  {
   "cell_type": "code",
   "execution_count": 16,
   "id": "fbe7ea7f-77ec-44c5-a732-31f0fca5d3d5",
   "metadata": {},
   "outputs": [
    {
     "data": {
      "text/plain": [
       "<Axes: xlabel='edad_disc_amplitud'>"
      ]
     },
     "execution_count": 16,
     "metadata": {},
     "output_type": "execute_result"
    },
    {
     "data": {
      "image/png": "[encoded data removed]",
      "text/plain": [
       "<Figure size 640x480 with 1 Axes>"
      ]
     },
     "metadata": {},
     "output_type": "display_data"
    }
   ],
   "source": [
    "xs = pd.DataFrame(edad_disc_sturges)\n",
    "xs.columns = ['edad_disc_amplitud']\n",
    "xs.groupby('edad_disc_amplitud').size().plot(kind='bar', rot=0)"
   ]
  },
  {
   "cell_type": "code",
   "execution_count": 17,
   "id": "09affc94-e8a2-4f62-9bf8-19dd14842a9d",
   "metadata": {},
   "outputs": [
    {
     "data": {
      "image/png": "[encoded data removed]",
      "text/plain": [
       "<Figure size 1000x600 with 1 Axes>"
      ]
     },
     "metadata": {},
     "output_type": "display_data"
    }
   ],
   "source": [
    "import matplotlib.pyplot as plt\n",
    "import pandas as pd\n",
    "import math\n",
    "\n",
    "# Calcular paramaetros para igual ancho binning\n",
    "n = len(df)\n",
    "k = 1 + math.log2(n)\n",
    "k = round(k, 0)\n",
    "xmin = df.edad.min()\n",
    "xmax = df.edad.max()\n",
    "c = (xmax-xmin) / k\n",
    "\n",
    "# Crear bins para el histograma\n",
    "bins = [xmin + i*c for i in range(int(k) + 1)]\n",
    "\n",
    "# Crea el histograma\n",
    "plt.figure(figsize=(10,6)) # Ajusta el tamaño de figura si necesita\n",
    "plt.hist(df['edad'], bins=bins, edgecolor = 'black')\n",
    "plt.xlabel('Edad')\n",
    "plt.ylabel('Frecuencia')\n",
    "plt.title('Histograma de Edades (Discretización por intervalos de Igual amplitud)')\n",
    "plt.grid(True)\n",
    "plt.show()"
   ]
  },
  {
   "cell_type": "code",
   "execution_count": 18,
   "id": "58c344af-d7be-4c7e-813b-0bf3506a690d",
   "metadata": {},
   "outputs": [
    {
     "data": {
      "text/html": [
       "<div>\n",
       "<style scoped>\n",
       "    .dataframe tbody tr th:only-of-type {\n",
       "        vertical-align: middle;\n",
       "    }\n",
       "\n",
       "    .dataframe tbody tr th {\n",
       "        vertical-align: top;\n",
       "    }\n",
       "\n",
       "    .dataframe thead th {\n",
       "        text-align: right;\n",
       "    }\n",
       "</style>\n",
       "<table border=\"1\" class=\"dataframe\">\n",
       "  <thead>\n",
       "    <tr style=\"text-align: right;\">\n",
       "      <th></th>\n",
       "      <th>Edad_igual_amplitud</th>\n",
       "    </tr>\n",
       "  </thead>\n",
       "  <tbody>\n",
       "    <tr>\n",
       "      <th>0</th>\n",
       "      <td>6.0</td>\n",
       "    </tr>\n",
       "    <tr>\n",
       "      <th>1</th>\n",
       "      <td>5.0</td>\n",
       "    </tr>\n",
       "    <tr>\n",
       "      <th>2</th>\n",
       "      <td>9.0</td>\n",
       "    </tr>\n",
       "    <tr>\n",
       "      <th>3</th>\n",
       "      <td>7.0</td>\n",
       "    </tr>\n",
       "    <tr>\n",
       "      <th>4</th>\n",
       "      <td>10.0</td>\n",
       "    </tr>\n",
       "  </tbody>\n",
       "</table>\n",
       "</div>"
      ],
      "text/plain": [
       "   Edad_igual_amplitud\n",
       "0                  6.0\n",
       "1                  5.0\n",
       "2                  9.0\n",
       "3                  7.0\n",
       "4                 10.0"
      ]
     },
     "execution_count": 18,
     "metadata": {},
     "output_type": "execute_result"
    }
   ],
   "source": [
    "edad_disc_sturge = pd.DataFrame(edad_disc_sturges, columns=['Edad_igual_amplitud'])\n",
    "edad_disc_sturge.head()"
   ]
  },
  {
   "cell_type": "code",
   "execution_count": 19,
   "id": "1e18070b-05e9-4d1b-90c7-66c02122e1d5",
   "metadata": {},
   "outputs": [
    {
     "data": {
      "text/html": [
       "<div>\n",
       "<style scoped>\n",
       "    .dataframe tbody tr th:only-of-type {\n",
       "        vertical-align: middle;\n",
       "    }\n",
       "\n",
       "    .dataframe tbody tr th {\n",
       "        vertical-align: top;\n",
       "    }\n",
       "\n",
       "    .dataframe thead th {\n",
       "        text-align: right;\n",
       "    }\n",
       "</style>\n",
       "<table border=\"1\" class=\"dataframe\">\n",
       "  <thead>\n",
       "    <tr style=\"text-align: right;\">\n",
       "      <th></th>\n",
       "      <th>genero</th>\n",
       "      <th>est_civil</th>\n",
       "      <th>tpers</th>\n",
       "      <th>cal</th>\n",
       "      <th>edad</th>\n",
       "      <th>clase</th>\n",
       "      <th>Edad_igual_amplitud</th>\n",
       "    </tr>\n",
       "  </thead>\n",
       "  <tbody>\n",
       "    <tr>\n",
       "      <th>0</th>\n",
       "      <td>1</td>\n",
       "      <td>3</td>\n",
       "      <td>0</td>\n",
       "      <td>0</td>\n",
       "      <td>40</td>\n",
       "      <td>1</td>\n",
       "      <td>6.0</td>\n",
       "    </tr>\n",
       "    <tr>\n",
       "      <th>1</th>\n",
       "      <td>1</td>\n",
       "      <td>3</td>\n",
       "      <td>0</td>\n",
       "      <td>3</td>\n",
       "      <td>35</td>\n",
       "      <td>1</td>\n",
       "      <td>5.0</td>\n",
       "    </tr>\n",
       "    <tr>\n",
       "      <th>2</th>\n",
       "      <td>1</td>\n",
       "      <td>0</td>\n",
       "      <td>0</td>\n",
       "      <td>3</td>\n",
       "      <td>58</td>\n",
       "      <td>1</td>\n",
       "      <td>9.0</td>\n",
       "    </tr>\n",
       "    <tr>\n",
       "      <th>3</th>\n",
       "      <td>1</td>\n",
       "      <td>3</td>\n",
       "      <td>0</td>\n",
       "      <td>1</td>\n",
       "      <td>44</td>\n",
       "      <td>0</td>\n",
       "      <td>7.0</td>\n",
       "    </tr>\n",
       "    <tr>\n",
       "      <th>4</th>\n",
       "      <td>1</td>\n",
       "      <td>3</td>\n",
       "      <td>0</td>\n",
       "      <td>0</td>\n",
       "      <td>65</td>\n",
       "      <td>1</td>\n",
       "      <td>10.0</td>\n",
       "    </tr>\n",
       "  </tbody>\n",
       "</table>\n",
       "</div>"
      ],
      "text/plain": [
       "   genero  est_civil  tpers  cal  edad  clase  Edad_igual_amplitud\n",
       "0       1          3      0    0    40      1                  6.0\n",
       "1       1          3      0    3    35      1                  5.0\n",
       "2       1          0      0    3    58      1                  9.0\n",
       "3       1          3      0    1    44      0                  7.0\n",
       "4       1          3      0    0    65      1                 10.0"
      ]
     },
     "execution_count": 19,
     "metadata": {},
     "output_type": "execute_result"
    }
   ],
   "source": [
    "df2 = pd.concat([df, edad_disc_sturge], axis=1)\n",
    "df2.head()"
   ]
  },
  {
   "cell_type": "markdown",
   "id": "f42f7795-3b08-4149-afec-20dcc8bfab2a",
   "metadata": {},
   "source": [
    "## Discretización Cuantil\n",
    "Se debe dividir el rango en $k$ intervalos\n",
    "* Para la construcción de los intervalos se debe tener en cuenta la discretización por cuantil\n",
    "* No se utiliza la información de la clase"
   ]
  },
  {
   "cell_type": "code",
   "execution_count": 21,
   "id": "cef29202-a499-4c19-94d3-a0190090038f",
   "metadata": {},
   "outputs": [],
   "source": [
    "from sklearn.preprocessing import KBinsDiscretizer"
   ]
  },
  {
   "cell_type": "markdown",
   "id": "92c43734-96c6-4d1c-a2b8-ffee7d81606a",
   "metadata": {},
   "source": [
    "Un cuantil es un valor que divide un conjunto de datos en intervalos de igual tamaño. Los cuantiles son puntos en un conjunto de datos que ayudan a comprender la distribución de los datos"
   ]
  },
  {
   "cell_type": "code",
   "execution_count": 23,
   "id": "6c9eeaf2-45c8-4795-919e-341499bc9096",
   "metadata": {},
   "outputs": [],
   "source": [
    "C_q = KBinsDiscretizer(n_bins=4, encode='ordinal', strategy='quantile')"
   ]
  },
  {
   "cell_type": "code",
   "execution_count": 24,
   "id": "3a5e254b-763a-47bd-af72-7b05c67a27a1",
   "metadata": {},
   "outputs": [],
   "source": [
    "edad_disc_cuant = C_q.fit_transform(df[['edad']])"
   ]
  },
  {
   "cell_type": "code",
   "execution_count": 25,
   "id": "1d6b22b3-8b98-4e85-a131-f990756daaac",
   "metadata": {},
   "outputs": [
    {
     "data": {
      "text/plain": [
       "<Axes: xlabel='edad_disc_q'>"
      ]
     },
     "execution_count": 25,
     "metadata": {},
     "output_type": "execute_result"
    },
    {
     "data": {
      "image/png": "[encoded data removed]",
      "text/plain": [
       "<Figure size 640x480 with 1 Axes>"
      ]
     },
     "metadata": {},
     "output_type": "display_data"
    }
   ],
   "source": [
    "xq = pd.DataFrame(edad_disc_cuant) # Creamos un Df a partir de edad...\n",
    "xq.columns= ['edad_disc_q'] # Establecemos lista en pandas con datos y categorias\n",
    "xq.groupby('edad_disc_q').size().plot(kind='bar', rot=0) # Ploteamos a partir de agrupamiento"
   ]
  },
  {
   "cell_type": "code",
   "execution_count": 26,
   "id": "bbb7ae02-b514-4b57-9c09-0882481c074a",
   "metadata": {},
   "outputs": [
    {
     "data": {
      "text/html": [
       "<div>\n",
       "<style scoped>\n",
       "    .dataframe tbody tr th:only-of-type {\n",
       "        vertical-align: middle;\n",
       "    }\n",
       "\n",
       "    .dataframe tbody tr th {\n",
       "        vertical-align: top;\n",
       "    }\n",
       "\n",
       "    .dataframe thead th {\n",
       "        text-align: right;\n",
       "    }\n",
       "</style>\n",
       "<table border=\"1\" class=\"dataframe\">\n",
       "  <thead>\n",
       "    <tr style=\"text-align: right;\">\n",
       "      <th></th>\n",
       "      <th>edad_disc_cuant</th>\n",
       "    </tr>\n",
       "  </thead>\n",
       "  <tbody>\n",
       "    <tr>\n",
       "      <th>0</th>\n",
       "      <td>1.0</td>\n",
       "    </tr>\n",
       "    <tr>\n",
       "      <th>1</th>\n",
       "      <td>1.0</td>\n",
       "    </tr>\n",
       "    <tr>\n",
       "      <th>2</th>\n",
       "      <td>3.0</td>\n",
       "    </tr>\n",
       "    <tr>\n",
       "      <th>3</th>\n",
       "      <td>2.0</td>\n",
       "    </tr>\n",
       "    <tr>\n",
       "      <th>4</th>\n",
       "      <td>3.0</td>\n",
       "    </tr>\n",
       "  </tbody>\n",
       "</table>\n",
       "</div>"
      ],
      "text/plain": [
       "   edad_disc_cuant\n",
       "0              1.0\n",
       "1              1.0\n",
       "2              3.0\n",
       "3              2.0\n",
       "4              3.0"
      ]
     },
     "execution_count": 26,
     "metadata": {},
     "output_type": "execute_result"
    }
   ],
   "source": [
    "edad_disc_cuant = pd.DataFrame(edad_disc_cuant, columns=['edad_disc_cuant'])\n",
    "edad_disc_cuant.head()"
   ]
  },
  {
   "cell_type": "code",
   "execution_count": 27,
   "id": "59958423-3a9c-4517-bb65-30908e8c0ed3",
   "metadata": {},
   "outputs": [
    {
     "data": {
      "text/html": [
       "<div>\n",
       "<style scoped>\n",
       "    .dataframe tbody tr th:only-of-type {\n",
       "        vertical-align: middle;\n",
       "    }\n",
       "\n",
       "    .dataframe tbody tr th {\n",
       "        vertical-align: top;\n",
       "    }\n",
       "\n",
       "    .dataframe thead th {\n",
       "        text-align: right;\n",
       "    }\n",
       "</style>\n",
       "<table border=\"1\" class=\"dataframe\">\n",
       "  <thead>\n",
       "    <tr style=\"text-align: right;\">\n",
       "      <th></th>\n",
       "      <th>genero</th>\n",
       "      <th>est_civil</th>\n",
       "      <th>tpers</th>\n",
       "      <th>cal</th>\n",
       "      <th>edad</th>\n",
       "      <th>clase</th>\n",
       "      <th>Edad_igual_amplitud</th>\n",
       "      <th>edad_disc_cuant</th>\n",
       "    </tr>\n",
       "  </thead>\n",
       "  <tbody>\n",
       "    <tr>\n",
       "      <th>0</th>\n",
       "      <td>1</td>\n",
       "      <td>3</td>\n",
       "      <td>0</td>\n",
       "      <td>0</td>\n",
       "      <td>40</td>\n",
       "      <td>1</td>\n",
       "      <td>6.0</td>\n",
       "      <td>1.0</td>\n",
       "    </tr>\n",
       "    <tr>\n",
       "      <th>1</th>\n",
       "      <td>1</td>\n",
       "      <td>3</td>\n",
       "      <td>0</td>\n",
       "      <td>3</td>\n",
       "      <td>35</td>\n",
       "      <td>1</td>\n",
       "      <td>5.0</td>\n",
       "      <td>1.0</td>\n",
       "    </tr>\n",
       "    <tr>\n",
       "      <th>2</th>\n",
       "      <td>1</td>\n",
       "      <td>0</td>\n",
       "      <td>0</td>\n",
       "      <td>3</td>\n",
       "      <td>58</td>\n",
       "      <td>1</td>\n",
       "      <td>9.0</td>\n",
       "      <td>3.0</td>\n",
       "    </tr>\n",
       "    <tr>\n",
       "      <th>3</th>\n",
       "      <td>1</td>\n",
       "      <td>3</td>\n",
       "      <td>0</td>\n",
       "      <td>1</td>\n",
       "      <td>44</td>\n",
       "      <td>0</td>\n",
       "      <td>7.0</td>\n",
       "      <td>2.0</td>\n",
       "    </tr>\n",
       "    <tr>\n",
       "      <th>4</th>\n",
       "      <td>1</td>\n",
       "      <td>3</td>\n",
       "      <td>0</td>\n",
       "      <td>0</td>\n",
       "      <td>65</td>\n",
       "      <td>1</td>\n",
       "      <td>10.0</td>\n",
       "      <td>3.0</td>\n",
       "    </tr>\n",
       "  </tbody>\n",
       "</table>\n",
       "</div>"
      ],
      "text/plain": [
       "   genero  est_civil  tpers  cal  edad  clase  Edad_igual_amplitud  \\\n",
       "0       1          3      0    0    40      1                  6.0   \n",
       "1       1          3      0    3    35      1                  5.0   \n",
       "2       1          0      0    3    58      1                  9.0   \n",
       "3       1          3      0    1    44      0                  7.0   \n",
       "4       1          3      0    0    65      1                 10.0   \n",
       "\n",
       "   edad_disc_cuant  \n",
       "0              1.0  \n",
       "1              1.0  \n",
       "2              3.0  \n",
       "3              2.0  \n",
       "4              3.0  "
      ]
     },
     "execution_count": 27,
     "metadata": {},
     "output_type": "execute_result"
    }
   ],
   "source": [
    "df3 = pd.concat([df2,edad_disc_cuant], axis=1)\n",
    "df3.head()"
   ]
  },
  {
   "cell_type": "code",
   "execution_count": 28,
   "id": "fbb539dd-81af-4259-a311-ee89e313e20d",
   "metadata": {},
   "outputs": [],
   "source": [
    "from sklearn.preprocessing import KBinsDiscretizer"
   ]
  },
  {
   "cell_type": "code",
   "execution_count": 29,
   "id": "f7b38be7-2cd1-4f4f-889a-c03a37a9d11a",
   "metadata": {},
   "outputs": [],
   "source": [
    "C_kmeans = KBinsDiscretizer(n_bins=4, encode='ordinal', strategy='kmeans')"
   ]
  },
  {
   "cell_type": "code",
   "execution_count": 30,
   "id": "7d902816-42ef-462d-ab30-b5a8c5191535",
   "metadata": {},
   "outputs": [],
   "source": [
    "edad_disc_km = C_kmeans.fit_transform(df[['edad']])"
   ]
  },
  {
   "cell_type": "code",
   "execution_count": 31,
   "id": "b8565b32-ef16-471f-afb5-219d90b479f9",
   "metadata": {},
   "outputs": [
    {
     "data": {
      "text/plain": [
       "<Axes: xlabel='edad_disc_km'>"
      ]
     },
     "execution_count": 31,
     "metadata": {},
     "output_type": "execute_result"
    },
    {
     "data": {
      "image/png": "[encoded data removed]",
      "text/plain": [
       "<Figure size 640x480 with 1 Axes>"
      ]
     },
     "metadata": {},
     "output_type": "display_data"
    }
   ],
   "source": [
    "xkmeans = pd.DataFrame(edad_disc_km)\n",
    "xkmeans.columns= ['edad_disc_km'] # Establecemos lista en pandas con datos y categorias\n",
    "xkmeans.groupby('edad_disc_km').size().plot(kind='bar', rot=0) # Ploteamos a partir de agrupamiento\n",
    "\n",
    "# Kmeans es sensible a outlayer (\"Datos fuera de lugar\")"
   ]
  },
  {
   "cell_type": "markdown",
   "id": "17f07b27-afb8-4a04-ad25-f13f76fd2e33",
   "metadata": {},
   "source": [
    "Un **discretizador K-means** es un algoritmo que puede ser usado para convertir un conjunto de datos continuos en un conjunto de datos discretos. El método K-means, que tradicionalmente se utiliza para clustering (agrupamiento de datos), puede adaptarse para este propósito en situaciones donde se quiere transformar variables continuas en categorías o clases discretas.\n",
    "\n",
    "¿Cómo funciona el discretizador K-means?\n",
    "Entrada de datos continuos: Tienes un conjunto de datos en los que las variables son continuas.\n",
    "\n",
    "Aplicación de K-means: Aplicar el algoritmo de K-means para agrupar estos datos en k clústeres. Cada clúster tiene un centro, que es el valor promedio de los puntos dentro del clúster.\n",
    "\n",
    "Asignación de valores discretos: Una vez que los datos son agrupados en k clústeres, se pueden asignar etiquetas discretas a cada uno de los clústeres, lo que convierte las variables continuas en variables discretas.\n",
    "\n",
    "Resultado: El conjunto de datos ahora tiene valores discretos, donde cada valor pertenece a uno de los k clústeres. Los valores continuos se han transformado en categorías basadas en la proximidad a los centros de los clústeres."
   ]
  },
  {
   "cell_type": "code",
   "execution_count": 34,
   "id": "cbddc91c-8947-4103-b727-a45149111a55",
   "metadata": {},
   "outputs": [
    {
     "name": "stdout",
     "output_type": "stream",
     "text": [
      "^C\n",
      "\n",
      "CondaError: KeyboardInterrupt\n",
      "\n",
      "\n",
      "Note: you may need to restart the kernel to use updated packages.\n"
     ]
    }
   ],
   "source": [
    "#conda install mdlp"
   ]
  },
  {
   "cell_type": "code",
   "execution_count": 33,
   "id": "3b564495-bef1-461f-961b-2aa7c9666b7f",
   "metadata": {},
   "outputs": [],
   "source": [
    "# Discretización por entropia\n",
    "\n",
    "#from MDLP import MDLP_Discretizer"
   ]
  },
  {
   "cell_type": "code",
   "execution_count": 62,
   "id": "491113ca-8920-446c-bca6-406122377a1b",
   "metadata": {},
   "outputs": [
    {
     "data": {
      "text/html": [
       "<div>\n",
       "<style scoped>\n",
       "    .dataframe tbody tr th:only-of-type {\n",
       "        vertical-align: middle;\n",
       "    }\n",
       "\n",
       "    .dataframe tbody tr th {\n",
       "        vertical-align: top;\n",
       "    }\n",
       "\n",
       "    .dataframe thead th {\n",
       "        text-align: right;\n",
       "    }\n",
       "</style>\n",
       "<table border=\"1\" class=\"dataframe\">\n",
       "  <thead>\n",
       "    <tr style=\"text-align: right;\">\n",
       "      <th></th>\n",
       "      <th>edad</th>\n",
       "      <th>clase</th>\n",
       "      <th>edad_entropy_discretized</th>\n",
       "    </tr>\n",
       "  </thead>\n",
       "  <tbody>\n",
       "    <tr>\n",
       "      <th>0</th>\n",
       "      <td>10</td>\n",
       "      <td>0</td>\n",
       "      <td>0</td>\n",
       "    </tr>\n",
       "    <tr>\n",
       "      <th>1</th>\n",
       "      <td>20</td>\n",
       "      <td>1</td>\n",
       "      <td>2</td>\n",
       "    </tr>\n",
       "    <tr>\n",
       "      <th>2</th>\n",
       "      <td>30</td>\n",
       "      <td>0</td>\n",
       "      <td>2</td>\n",
       "    </tr>\n",
       "    <tr>\n",
       "      <th>3</th>\n",
       "      <td>40</td>\n",
       "      <td>1</td>\n",
       "      <td>2</td>\n",
       "    </tr>\n",
       "    <tr>\n",
       "      <th>4</th>\n",
       "      <td>50</td>\n",
       "      <td>0</td>\n",
       "      <td>2</td>\n",
       "    </tr>\n",
       "    <tr>\n",
       "      <th>5</th>\n",
       "      <td>60</td>\n",
       "      <td>1</td>\n",
       "      <td>2</td>\n",
       "    </tr>\n",
       "    <tr>\n",
       "      <th>6</th>\n",
       "      <td>70</td>\n",
       "      <td>0</td>\n",
       "      <td>2</td>\n",
       "    </tr>\n",
       "  </tbody>\n",
       "</table>\n",
       "</div>"
      ],
      "text/plain": [
       "   edad  clase  edad_entropy_discretized\n",
       "0    10      0                         0\n",
       "1    20      1                         2\n",
       "2    30      0                         2\n",
       "3    40      1                         2\n",
       "4    50      0                         2\n",
       "5    60      1                         2\n",
       "6    70      0                         2"
      ]
     },
     "execution_count": 62,
     "metadata": {},
     "output_type": "execute_result"
    }
   ],
   "source": [
    "import pandas as pd\n",
    "import numpy as np\n",
    "\n",
    "def discretize_by_entropy(data, column_name, n_bins):\n",
    "\n",
    "    def entropy(labels):\n",
    "        _, counts = np.unique(labels, return_counts=True)\n",
    "        probabilities = counts / counts.sum()\n",
    "        return -np.sum(probabilities * np.log2(probabilities))\n",
    "\n",
    "   \n",
    "    def find_optimal_splits(data, column_name, n_bins):\n",
    "        unique_values = np.unique(data[column_name])\n",
    "        split_points = []\n",
    "\n",
    "        if len(unique_values) <= n_bins:\n",
    "            return list(unique_values)[:-1]  \n",
    "            \n",
    "      \n",
    "        for _ in range(n_bins-1):\n",
    "            best_split = -1\n",
    "            max_info_gain = -1\n",
    "\n",
    "            for i in range(len(unique_values) - 1):\n",
    "                split = (unique_values[i] + unique_values[i+1])/2 # midpoint as possible split\n",
    "                left_data = data[data[column_name] < split]\n",
    "                right_data = data[data[column_name] >= split]\n",
    "\n",
    "                if len(left_data) > 0 and len(right_data) > 0:\n",
    "                    info_gain = entropy(data['clase']) - (len(left_data)/len(data))*entropy(left_data['clase']) - (len(right_data)/len(data))*entropy(right_data['clase'])\n",
    "                    if info_gain > max_info_gain:\n",
    "                        max_info_gain = info_gain\n",
    "                        best_split = split\n",
    "\n",
    "            if best_split > -1:\n",
    "                split_points.append(best_split)\n",
    "             \n",
    "                unique_values = np.unique(data[column_name])\n",
    "\n",
    "        return sorted(split_points)  \n",
    "  \n",
    "    split_points = find_optimal_splits(data, column_name, n_bins)\n",
    "    data_copy = data.copy() \n",
    "\n",
    "\n",
    "    def assign_bins(age):\n",
    "        for i, split_point in enumerate(split_points):\n",
    "            if age < split_point:\n",
    "                return i\n",
    "        return len(split_points)\n",
    "    data_copy[f\"{column_name}_entropy_discretized\"] = data[column_name].apply(assign_bins)\n",
    "    return data_copy\n",
    "\n",
    "\n",
    "df = pd.DataFrame({'edad':[10, 20, 30, 40, 50,60,70], 'clase':[0,1,0,1,0,1,0]})\n",
    "df = discretize_by_entropy(df, 'edad', 3)\n",
    "df"
   ]
  }
 ],
 "metadata": {
  "kernelspec": {
   "display_name": "Python 3 (ipykernel)",
   "language": "python",
   "name": "python3"
  },
  "language_info": {
   "codemirror_mode": {
    "name": "ipython",
    "version": 3
   },
   "file_extension": ".py",
   "mimetype": "text/x-python",
   "name": "python",
   "nbconvert_exporter": "python",
   "pygments_lexer": "ipython3",
   "version": "3.12.7"
  }
 },
 "nbformat": 4,
 "nbformat_minor": 5
}
