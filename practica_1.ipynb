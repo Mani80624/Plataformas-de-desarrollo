{
 "cells": [
  {
   "cell_type": "markdown",
   "id": "7f4b793b-9d5b-4d8d-b6c0-dbde27dea643",
   "metadata": {},
   "source": [
    "# Instalar el data set"
   ]
  },
  {
   "cell_type": "code",
   "execution_count": null,
   "id": "4815ff8e-5fe4-491e-ad76-fca79c50f615",
   "metadata": {},
   "outputs": [],
   "source": [
    "pip install ucimlrepo"
   ]
  },
  {
   "cell_type": "markdown",
   "id": "850864fb-f7ea-411a-adc1-ab56210bdfef",
   "metadata": {},
   "source": [
    "**Importar el data set**"
   ]
  },
  {
   "cell_type": "code",
   "execution_count": 1,
   "id": "e2c6b1aa-150e-4e52-bb5d-f3f722c56e53",
   "metadata": {
    "scrolled": true
   },
   "outputs": [
    {
     "name": "stdout",
     "output_type": "stream",
     "text": [
      "{'uci_id': 15, 'name': 'Breast Cancer Wisconsin (Original)', 'repository_url': 'https://archive.ics.uci.edu/dataset/15/breast+cancer+wisconsin+original', 'data_url': 'https://archive.ics.uci.edu/static/public/15/data.csv', 'abstract': 'Original Wisconsin Breast Cancer Database', 'area': 'Health and Medicine', 'tasks': ['Classification'], 'characteristics': ['Multivariate'], 'num_instances': 699, 'num_features': 9, 'feature_types': ['Integer'], 'demographics': [], 'target_col': ['Class'], 'index_col': ['Sample_code_number'], 'has_missing_values': 'yes', 'missing_values_symbol': 'NaN', 'year_of_dataset_creation': 1990, 'last_updated': 'Sun Mar 10 2024', 'dataset_doi': '10.24432/C5HP4Z', 'creators': ['WIlliam Wolberg'], 'intro_paper': None, 'additional_info': {'summary': \"Samples arrive periodically as Dr. Wolberg reports his clinical cases. The database therefore reflects this chronological grouping of the data. This grouping information appears immediately below, having been removed from the data itself:\\r\\n\\r\\nGroup 1: 367 instances (January 1989)\\r\\nGroup 2:  70 instances (October 1989)\\r\\nGroup 3:  31 instances (February 1990)\\r\\nGroup 4:  17 instances (April 1990)\\r\\nGroup 5:  48 instances (August 1990)\\r\\nGroup 6:  49 instances (Updated January 1991)\\r\\nGroup 7:  31 instances (June 1991)\\r\\nGroup 8:  86 instances (November 1991)\\r\\n-----------------------------------------\\r\\nTotal:   699 points (as of the donated datbase on 15 July 1992)\\r\\n\\r\\nNote that the results summarized above in Past Usage refer to a dataset of size 369, while Group 1 has only 367 instances.  This is because it originally contained 369 instances; 2 were removed.  The following statements summarizes changes to the original Group 1's set of data:\\r\\n\\r\\n#####  Group 1 : 367 points: 200B 167M (January 1989)\\r\\n\\r\\n#####  Revised Jan 10, 1991: Replaced zero bare nuclei in 1080185 & 1187805\\r\\n\\r\\n#####  Revised Nov 22,1991: Removed 765878,4,5,9,7,10,10,10,3,8,1 no record\\r\\n#####                  : Removed 484201,2,7,8,8,4,3,10,3,4,1 zero epithelial\\r\\n#####                  : Changed 0 to 1 in field 6 of sample 1219406\\r\\n#####                  : Changed 0 to 1 in field 8 of following sample:\\r\\n#####                  : 1182404,2,3,1,1,1,2,0,1,1,1\", 'purpose': None, 'funded_by': None, 'instances_represent': None, 'recommended_data_splits': None, 'sensitive_data': None, 'preprocessing_description': None, 'variable_info': '1. Sample code number:            id number\\r\\n2. Clump Thickness:               1 - 10\\r\\n3. Uniformity of Cell Size:       1 - 10\\r\\n4. Uniformity of Cell Shape:      1 - 10\\r\\n5. Marginal Adhesion:             1 - 10\\r\\n6. Single Epithelial Cell Size:   1 - 10\\r\\n7. Bare Nuclei:                   1 - 10\\r\\n8. Bland Chromatin:               1 - 10\\r\\n9. Normal Nucleoli:               1 - 10\\r\\n10. Mitoses:                       1 - 10\\r\\n11. Class:                        (2 for benign, 4 for malignant)', 'citation': 'This breast cancer databases was obtained from the University of Wisconsin Hospitals, Madison from Dr. William H. Wolberg.  If you publish results when using this database, then please include this information in your acknowledgements.  Also, please cite one or more of:\\n1. O. L. Mangasarian and W. H. Wolberg: \"Cancer diagnosis via linear programming\", SIAM News, Volume 23, Number 5, September 1990, pp 1 & 18.\\n2. William H. Wolberg and O.L. Mangasarian: \"Multisurface method of pattern separation for medical diagnosis applied to breast cytology\", Proceedings of the National Academy of Sciences, U.S.A., Volume 87, December 1990, pp 9193-9196.\\n3. O. L. Mangasarian, R. Setiono, and W.H. Wolberg: \"Pattern recognition via linear programming: Theory and application to medical diagnosis\", in: \"Large-scale numerical optimization\", Thomas F. Coleman and Yuying Li, editors, SIAM Publications, Philadelphia 1990, pp 22-30.\\n4. K. P. Bennett & O. L. Mangasarian: \"Robust linear programming discrimination of two linearly inseparable sets\", Optimization Methods and Software 1, 1992, 23-34 (Gordon & Breach Science Publishers).'}}\n",
      "                           name     role         type demographic  \\\n",
      "0            Sample_code_number       ID  Categorical        None   \n",
      "1               Clump_thickness  Feature      Integer        None   \n",
      "2       Uniformity_of_cell_size  Feature      Integer        None   \n",
      "3      Uniformity_of_cell_shape  Feature      Integer        None   \n",
      "4             Marginal_adhesion  Feature      Integer        None   \n",
      "5   Single_epithelial_cell_size  Feature      Integer        None   \n",
      "6                   Bare_nuclei  Feature      Integer        None   \n",
      "7               Bland_chromatin  Feature      Integer        None   \n",
      "8               Normal_nucleoli  Feature      Integer        None   \n",
      "9                       Mitoses  Feature      Integer        None   \n",
      "10                        Class   Target       Binary        None   \n",
      "\n",
      "                  description units missing_values  \n",
      "0                        None  None             no  \n",
      "1                        None  None             no  \n",
      "2                        None  None             no  \n",
      "3                        None  None             no  \n",
      "4                        None  None             no  \n",
      "5                        None  None             no  \n",
      "6                        None  None            yes  \n",
      "7                        None  None             no  \n",
      "8                        None  None             no  \n",
      "9                        None  None             no  \n",
      "10  2 = benign, 4 = malignant  None             no  \n"
     ]
    }
   ],
   "source": [
    "from ucimlrepo import fetch_ucirepo \n",
    "import pandas as pd\n",
    "  \n",
    "# fetch dataset \n",
    "breast_cancer_wisconsin_original = fetch_ucirepo(id=15) \n",
    "  \n",
    "# data (as pandas dataframes) \n",
    "X = breast_cancer_wisconsin_original.data.features \n",
    "y = breast_cancer_wisconsin_original.data.targets \n",
    "  \n",
    "# metadata \n",
    "print(breast_cancer_wisconsin_original.metadata) \n",
    "  \n",
    "# variable information \n",
    "print(breast_cancer_wisconsin_original.variables) \n"
   ]
  },
  {
   "cell_type": "markdown",
   "id": "f595efbf-e49b-4d99-8105-59846206fd2f",
   "metadata": {},
   "source": [
    "Imprimir los primeros renglones del data set:\n",
    "- Grosor de masa\n",
    "- Uniformidad del tamaño celular\n",
    "- Uniformidad de la forma celular\n",
    "- Adherencia marginal\n",
    "- Tamaño de una célula epitelial\n",
    "- Núcleos descubiertos\n",
    "- Cromatina blanda\n",
    "- Nucleolos normales\n",
    "- Mitosis"
   ]
  },
  {
   "cell_type": "code",
   "execution_count": 5,
   "id": "b1898575-c928-4a7e-827b-0b5675aa32cf",
   "metadata": {},
   "outputs": [
    {
     "data": {
      "text/html": [
       "<div>\n",
       "<style scoped>\n",
       "    .dataframe tbody tr th:only-of-type {\n",
       "        vertical-align: middle;\n",
       "    }\n",
       "\n",
       "    .dataframe tbody tr th {\n",
       "        vertical-align: top;\n",
       "    }\n",
       "\n",
       "    .dataframe thead th {\n",
       "        text-align: right;\n",
       "    }\n",
       "</style>\n",
       "<table border=\"1\" class=\"dataframe\">\n",
       "  <thead>\n",
       "    <tr style=\"text-align: right;\">\n",
       "      <th></th>\n",
       "      <th>Clump_thickness</th>\n",
       "      <th>Uniformity_of_cell_size</th>\n",
       "      <th>Uniformity_of_cell_shape</th>\n",
       "      <th>Marginal_adhesion</th>\n",
       "      <th>Single_epithelial_cell_size</th>\n",
       "      <th>Bare_nuclei</th>\n",
       "      <th>Bland_chromatin</th>\n",
       "      <th>Normal_nucleoli</th>\n",
       "      <th>Mitoses</th>\n",
       "    </tr>\n",
       "  </thead>\n",
       "  <tbody>\n",
       "    <tr>\n",
       "      <th>0</th>\n",
       "      <td>5</td>\n",
       "      <td>1</td>\n",
       "      <td>1</td>\n",
       "      <td>1</td>\n",
       "      <td>2</td>\n",
       "      <td>1.0</td>\n",
       "      <td>3</td>\n",
       "      <td>1</td>\n",
       "      <td>1</td>\n",
       "    </tr>\n",
       "    <tr>\n",
       "      <th>1</th>\n",
       "      <td>5</td>\n",
       "      <td>4</td>\n",
       "      <td>4</td>\n",
       "      <td>5</td>\n",
       "      <td>7</td>\n",
       "      <td>10.0</td>\n",
       "      <td>3</td>\n",
       "      <td>2</td>\n",
       "      <td>1</td>\n",
       "    </tr>\n",
       "    <tr>\n",
       "      <th>2</th>\n",
       "      <td>3</td>\n",
       "      <td>1</td>\n",
       "      <td>1</td>\n",
       "      <td>1</td>\n",
       "      <td>2</td>\n",
       "      <td>2.0</td>\n",
       "      <td>3</td>\n",
       "      <td>1</td>\n",
       "      <td>1</td>\n",
       "    </tr>\n",
       "    <tr>\n",
       "      <th>3</th>\n",
       "      <td>6</td>\n",
       "      <td>8</td>\n",
       "      <td>8</td>\n",
       "      <td>1</td>\n",
       "      <td>3</td>\n",
       "      <td>4.0</td>\n",
       "      <td>3</td>\n",
       "      <td>7</td>\n",
       "      <td>1</td>\n",
       "    </tr>\n",
       "    <tr>\n",
       "      <th>4</th>\n",
       "      <td>4</td>\n",
       "      <td>1</td>\n",
       "      <td>1</td>\n",
       "      <td>3</td>\n",
       "      <td>2</td>\n",
       "      <td>1.0</td>\n",
       "      <td>3</td>\n",
       "      <td>1</td>\n",
       "      <td>1</td>\n",
       "    </tr>\n",
       "  </tbody>\n",
       "</table>\n",
       "</div>"
      ],
      "text/plain": [
       "   Clump_thickness  Uniformity_of_cell_size  Uniformity_of_cell_shape  \\\n",
       "0                5                        1                         1   \n",
       "1                5                        4                         4   \n",
       "2                3                        1                         1   \n",
       "3                6                        8                         8   \n",
       "4                4                        1                         1   \n",
       "\n",
       "   Marginal_adhesion  Single_epithelial_cell_size  Bare_nuclei  \\\n",
       "0                  1                            2          1.0   \n",
       "1                  5                            7         10.0   \n",
       "2                  1                            2          2.0   \n",
       "3                  1                            3          4.0   \n",
       "4                  3                            2          1.0   \n",
       "\n",
       "   Bland_chromatin  Normal_nucleoli  Mitoses  \n",
       "0                3                1        1  \n",
       "1                3                2        1  \n",
       "2                3                1        1  \n",
       "3                3                7        1  \n",
       "4                3                1        1  "
      ]
     },
     "execution_count": 5,
     "metadata": {},
     "output_type": "execute_result"
    }
   ],
   "source": [
    "X.head()"
   ]
  },
  {
   "cell_type": "code",
   "execution_count": 5,
   "id": "d2e0feb3-f46c-491d-bfa6-f06bed131727",
   "metadata": {},
   "outputs": [
    {
     "data": {
      "text/html": [
       "<div>\n",
       "<style scoped>\n",
       "    .dataframe tbody tr th:only-of-type {\n",
       "        vertical-align: middle;\n",
       "    }\n",
       "\n",
       "    .dataframe tbody tr th {\n",
       "        vertical-align: top;\n",
       "    }\n",
       "\n",
       "    .dataframe thead th {\n",
       "        text-align: right;\n",
       "    }\n",
       "</style>\n",
       "<table border=\"1\" class=\"dataframe\">\n",
       "  <thead>\n",
       "    <tr style=\"text-align: right;\">\n",
       "      <th></th>\n",
       "      <th>Class</th>\n",
       "    </tr>\n",
       "  </thead>\n",
       "  <tbody>\n",
       "    <tr>\n",
       "      <th>0</th>\n",
       "      <td>2</td>\n",
       "    </tr>\n",
       "    <tr>\n",
       "      <th>1</th>\n",
       "      <td>2</td>\n",
       "    </tr>\n",
       "    <tr>\n",
       "      <th>2</th>\n",
       "      <td>2</td>\n",
       "    </tr>\n",
       "    <tr>\n",
       "      <th>3</th>\n",
       "      <td>2</td>\n",
       "    </tr>\n",
       "    <tr>\n",
       "      <th>4</th>\n",
       "      <td>2</td>\n",
       "    </tr>\n",
       "  </tbody>\n",
       "</table>\n",
       "</div>"
      ],
      "text/plain": [
       "   Class\n",
       "0      2\n",
       "1      2\n",
       "2      2\n",
       "3      2\n",
       "4      2"
      ]
     },
     "execution_count": 5,
     "metadata": {},
     "output_type": "execute_result"
    }
   ],
   "source": [
    "y.head()"
   ]
  },
  {
   "cell_type": "markdown",
   "id": "a408b630-41c4-473c-bbed-4fcd7ab2625b",
   "metadata": {},
   "source": [
    "**Imprimir la información del data Frame:**\n",
    "- Número de renglon\n",
    "- Columnas\n",
    "- Conteo no nulo\n",
    "- Tipo de dato"
   ]
  },
  {
   "cell_type": "code",
   "execution_count": 7,
   "id": "c07ec159-7f11-45a3-a7bb-0d5eba0100ed",
   "metadata": {},
   "outputs": [
    {
     "name": "stdout",
     "output_type": "stream",
     "text": [
      "<class 'pandas.core.frame.DataFrame'>\n",
      "RangeIndex: 699 entries, 0 to 698\n",
      "Data columns (total 9 columns):\n",
      " #   Column                       Non-Null Count  Dtype  \n",
      "---  ------                       --------------  -----  \n",
      " 0   Clump_thickness              699 non-null    int64  \n",
      " 1   Uniformity_of_cell_size      699 non-null    int64  \n",
      " 2   Uniformity_of_cell_shape     699 non-null    int64  \n",
      " 3   Marginal_adhesion            699 non-null    int64  \n",
      " 4   Single_epithelial_cell_size  699 non-null    int64  \n",
      " 5   Bare_nuclei                  683 non-null    float64\n",
      " 6   Bland_chromatin              699 non-null    int64  \n",
      " 7   Normal_nucleoli              699 non-null    int64  \n",
      " 8   Mitoses                      699 non-null    int64  \n",
      "dtypes: float64(1), int64(8)\n",
      "memory usage: 49.3 KB\n"
     ]
    }
   ],
   "source": [
    "X.info()"
   ]
  },
  {
   "cell_type": "markdown",
   "id": "a28e43f8-d029-49d1-9322-784996cb01bc",
   "metadata": {},
   "source": [
    "**Describe los valores estadísticos**\n",
    "- Conteo\n",
    "- Media\n",
    "- Desviación estandar\n",
    "- Minimo\n",
    "- Cuartiles"
   ]
  },
  {
   "cell_type": "code",
   "execution_count": 9,
   "id": "559c1253-bb36-4f29-9fda-c2c66fd526b0",
   "metadata": {},
   "outputs": [
    {
     "data": {
      "text/html": [
       "<div>\n",
       "<style scoped>\n",
       "    .dataframe tbody tr th:only-of-type {\n",
       "        vertical-align: middle;\n",
       "    }\n",
       "\n",
       "    .dataframe tbody tr th {\n",
       "        vertical-align: top;\n",
       "    }\n",
       "\n",
       "    .dataframe thead th {\n",
       "        text-align: right;\n",
       "    }\n",
       "</style>\n",
       "<table border=\"1\" class=\"dataframe\">\n",
       "  <thead>\n",
       "    <tr style=\"text-align: right;\">\n",
       "      <th></th>\n",
       "      <th>Clump_thickness</th>\n",
       "      <th>Uniformity_of_cell_size</th>\n",
       "      <th>Uniformity_of_cell_shape</th>\n",
       "      <th>Marginal_adhesion</th>\n",
       "      <th>Single_epithelial_cell_size</th>\n",
       "      <th>Bare_nuclei</th>\n",
       "      <th>Bland_chromatin</th>\n",
       "      <th>Normal_nucleoli</th>\n",
       "      <th>Mitoses</th>\n",
       "    </tr>\n",
       "  </thead>\n",
       "  <tbody>\n",
       "    <tr>\n",
       "      <th>count</th>\n",
       "      <td>699.000000</td>\n",
       "      <td>699.000000</td>\n",
       "      <td>699.000000</td>\n",
       "      <td>699.000000</td>\n",
       "      <td>699.000000</td>\n",
       "      <td>683.000000</td>\n",
       "      <td>699.000000</td>\n",
       "      <td>699.000000</td>\n",
       "      <td>699.000000</td>\n",
       "    </tr>\n",
       "    <tr>\n",
       "      <th>mean</th>\n",
       "      <td>4.417740</td>\n",
       "      <td>3.134478</td>\n",
       "      <td>3.207439</td>\n",
       "      <td>2.806867</td>\n",
       "      <td>3.216023</td>\n",
       "      <td>3.544656</td>\n",
       "      <td>3.437768</td>\n",
       "      <td>2.866953</td>\n",
       "      <td>1.589413</td>\n",
       "    </tr>\n",
       "    <tr>\n",
       "      <th>std</th>\n",
       "      <td>2.815741</td>\n",
       "      <td>3.051459</td>\n",
       "      <td>2.971913</td>\n",
       "      <td>2.855379</td>\n",
       "      <td>2.214300</td>\n",
       "      <td>3.643857</td>\n",
       "      <td>2.438364</td>\n",
       "      <td>3.053634</td>\n",
       "      <td>1.715078</td>\n",
       "    </tr>\n",
       "    <tr>\n",
       "      <th>min</th>\n",
       "      <td>1.000000</td>\n",
       "      <td>1.000000</td>\n",
       "      <td>1.000000</td>\n",
       "      <td>1.000000</td>\n",
       "      <td>1.000000</td>\n",
       "      <td>1.000000</td>\n",
       "      <td>1.000000</td>\n",
       "      <td>1.000000</td>\n",
       "      <td>1.000000</td>\n",
       "    </tr>\n",
       "    <tr>\n",
       "      <th>25%</th>\n",
       "      <td>2.000000</td>\n",
       "      <td>1.000000</td>\n",
       "      <td>1.000000</td>\n",
       "      <td>1.000000</td>\n",
       "      <td>2.000000</td>\n",
       "      <td>1.000000</td>\n",
       "      <td>2.000000</td>\n",
       "      <td>1.000000</td>\n",
       "      <td>1.000000</td>\n",
       "    </tr>\n",
       "    <tr>\n",
       "      <th>50%</th>\n",
       "      <td>4.000000</td>\n",
       "      <td>1.000000</td>\n",
       "      <td>1.000000</td>\n",
       "      <td>1.000000</td>\n",
       "      <td>2.000000</td>\n",
       "      <td>1.000000</td>\n",
       "      <td>3.000000</td>\n",
       "      <td>1.000000</td>\n",
       "      <td>1.000000</td>\n",
       "    </tr>\n",
       "    <tr>\n",
       "      <th>75%</th>\n",
       "      <td>6.000000</td>\n",
       "      <td>5.000000</td>\n",
       "      <td>5.000000</td>\n",
       "      <td>4.000000</td>\n",
       "      <td>4.000000</td>\n",
       "      <td>6.000000</td>\n",
       "      <td>5.000000</td>\n",
       "      <td>4.000000</td>\n",
       "      <td>1.000000</td>\n",
       "    </tr>\n",
       "    <tr>\n",
       "      <th>max</th>\n",
       "      <td>10.000000</td>\n",
       "      <td>10.000000</td>\n",
       "      <td>10.000000</td>\n",
       "      <td>10.000000</td>\n",
       "      <td>10.000000</td>\n",
       "      <td>10.000000</td>\n",
       "      <td>10.000000</td>\n",
       "      <td>10.000000</td>\n",
       "      <td>10.000000</td>\n",
       "    </tr>\n",
       "  </tbody>\n",
       "</table>\n",
       "</div>"
      ],
      "text/plain": [
       "       Clump_thickness  Uniformity_of_cell_size  Uniformity_of_cell_shape  \\\n",
       "count       699.000000               699.000000                699.000000   \n",
       "mean          4.417740                 3.134478                  3.207439   \n",
       "std           2.815741                 3.051459                  2.971913   \n",
       "min           1.000000                 1.000000                  1.000000   \n",
       "25%           2.000000                 1.000000                  1.000000   \n",
       "50%           4.000000                 1.000000                  1.000000   \n",
       "75%           6.000000                 5.000000                  5.000000   \n",
       "max          10.000000                10.000000                 10.000000   \n",
       "\n",
       "       Marginal_adhesion  Single_epithelial_cell_size  Bare_nuclei  \\\n",
       "count         699.000000                   699.000000   683.000000   \n",
       "mean            2.806867                     3.216023     3.544656   \n",
       "std             2.855379                     2.214300     3.643857   \n",
       "min             1.000000                     1.000000     1.000000   \n",
       "25%             1.000000                     2.000000     1.000000   \n",
       "50%             1.000000                     2.000000     1.000000   \n",
       "75%             4.000000                     4.000000     6.000000   \n",
       "max            10.000000                    10.000000    10.000000   \n",
       "\n",
       "       Bland_chromatin  Normal_nucleoli     Mitoses  \n",
       "count       699.000000       699.000000  699.000000  \n",
       "mean          3.437768         2.866953    1.589413  \n",
       "std           2.438364         3.053634    1.715078  \n",
       "min           1.000000         1.000000    1.000000  \n",
       "25%           2.000000         1.000000    1.000000  \n",
       "50%           3.000000         1.000000    1.000000  \n",
       "75%           5.000000         4.000000    1.000000  \n",
       "max          10.000000        10.000000   10.000000  "
      ]
     },
     "execution_count": 9,
     "metadata": {},
     "output_type": "execute_result"
    }
   ],
   "source": [
    "X.describe()"
   ]
  },
  {
   "cell_type": "markdown",
   "id": "685ba231-c49c-4e5c-b30a-4b1e057e8761",
   "metadata": {},
   "source": [
    "**Identitificar valores nulos**"
   ]
  },
  {
   "cell_type": "code",
   "execution_count": 11,
   "id": "f2b3389b-50e9-4a75-8812-641689e575e0",
   "metadata": {},
   "outputs": [
    {
     "data": {
      "text/plain": [
       "Clump_thickness                 0\n",
       "Uniformity_of_cell_size         0\n",
       "Uniformity_of_cell_shape        0\n",
       "Marginal_adhesion               0\n",
       "Single_epithelial_cell_size     0\n",
       "Bare_nuclei                    16\n",
       "Bland_chromatin                 0\n",
       "Normal_nucleoli                 0\n",
       "Mitoses                         0\n",
       "dtype: int64"
      ]
     },
     "execution_count": 11,
     "metadata": {},
     "output_type": "execute_result"
    }
   ],
   "source": [
    "X.isnull().sum()"
   ]
  },
  {
   "cell_type": "markdown",
   "id": "4ba3d9e2-1429-4a91-b623-2b9cb81a113c",
   "metadata": {},
   "source": [
    "Detectamos que la varible `Bare_nuclei` existen valores nulos, entonces los imprimimos"
   ]
  },
  {
   "cell_type": "code",
   "execution_count": 5,
   "id": "ec78a688-4546-4c91-b917-9d4baee35563",
   "metadata": {},
   "outputs": [
    {
     "data": {
      "text/html": [
       "<div>\n",
       "<style scoped>\n",
       "    .dataframe tbody tr th:only-of-type {\n",
       "        vertical-align: middle;\n",
       "    }\n",
       "\n",
       "    .dataframe tbody tr th {\n",
       "        vertical-align: top;\n",
       "    }\n",
       "\n",
       "    .dataframe thead th {\n",
       "        text-align: right;\n",
       "    }\n",
       "</style>\n",
       "<table border=\"1\" class=\"dataframe\">\n",
       "  <thead>\n",
       "    <tr style=\"text-align: right;\">\n",
       "      <th></th>\n",
       "      <th>Clump_thickness</th>\n",
       "      <th>Uniformity_of_cell_size</th>\n",
       "      <th>Uniformity_of_cell_shape</th>\n",
       "      <th>Marginal_adhesion</th>\n",
       "      <th>Single_epithelial_cell_size</th>\n",
       "      <th>Bare_nuclei</th>\n",
       "      <th>Bland_chromatin</th>\n",
       "      <th>Normal_nucleoli</th>\n",
       "      <th>Mitoses</th>\n",
       "    </tr>\n",
       "  </thead>\n",
       "  <tbody>\n",
       "    <tr>\n",
       "      <th>23</th>\n",
       "      <td>8</td>\n",
       "      <td>4</td>\n",
       "      <td>5</td>\n",
       "      <td>1</td>\n",
       "      <td>2</td>\n",
       "      <td>NaN</td>\n",
       "      <td>7</td>\n",
       "      <td>3</td>\n",
       "      <td>1</td>\n",
       "    </tr>\n",
       "    <tr>\n",
       "      <th>40</th>\n",
       "      <td>6</td>\n",
       "      <td>6</td>\n",
       "      <td>6</td>\n",
       "      <td>9</td>\n",
       "      <td>6</td>\n",
       "      <td>NaN</td>\n",
       "      <td>7</td>\n",
       "      <td>8</td>\n",
       "      <td>1</td>\n",
       "    </tr>\n",
       "    <tr>\n",
       "      <th>139</th>\n",
       "      <td>1</td>\n",
       "      <td>1</td>\n",
       "      <td>1</td>\n",
       "      <td>1</td>\n",
       "      <td>1</td>\n",
       "      <td>NaN</td>\n",
       "      <td>2</td>\n",
       "      <td>1</td>\n",
       "      <td>1</td>\n",
       "    </tr>\n",
       "    <tr>\n",
       "      <th>145</th>\n",
       "      <td>1</td>\n",
       "      <td>1</td>\n",
       "      <td>3</td>\n",
       "      <td>1</td>\n",
       "      <td>2</td>\n",
       "      <td>NaN</td>\n",
       "      <td>2</td>\n",
       "      <td>1</td>\n",
       "      <td>1</td>\n",
       "    </tr>\n",
       "    <tr>\n",
       "      <th>158</th>\n",
       "      <td>1</td>\n",
       "      <td>1</td>\n",
       "      <td>2</td>\n",
       "      <td>1</td>\n",
       "      <td>3</td>\n",
       "      <td>NaN</td>\n",
       "      <td>1</td>\n",
       "      <td>1</td>\n",
       "      <td>1</td>\n",
       "    </tr>\n",
       "    <tr>\n",
       "      <th>164</th>\n",
       "      <td>5</td>\n",
       "      <td>1</td>\n",
       "      <td>1</td>\n",
       "      <td>1</td>\n",
       "      <td>2</td>\n",
       "      <td>NaN</td>\n",
       "      <td>3</td>\n",
       "      <td>1</td>\n",
       "      <td>1</td>\n",
       "    </tr>\n",
       "    <tr>\n",
       "      <th>235</th>\n",
       "      <td>3</td>\n",
       "      <td>1</td>\n",
       "      <td>4</td>\n",
       "      <td>1</td>\n",
       "      <td>2</td>\n",
       "      <td>NaN</td>\n",
       "      <td>3</td>\n",
       "      <td>1</td>\n",
       "      <td>1</td>\n",
       "    </tr>\n",
       "    <tr>\n",
       "      <th>249</th>\n",
       "      <td>3</td>\n",
       "      <td>1</td>\n",
       "      <td>1</td>\n",
       "      <td>1</td>\n",
       "      <td>2</td>\n",
       "      <td>NaN</td>\n",
       "      <td>3</td>\n",
       "      <td>1</td>\n",
       "      <td>1</td>\n",
       "    </tr>\n",
       "    <tr>\n",
       "      <th>275</th>\n",
       "      <td>3</td>\n",
       "      <td>1</td>\n",
       "      <td>3</td>\n",
       "      <td>1</td>\n",
       "      <td>2</td>\n",
       "      <td>NaN</td>\n",
       "      <td>2</td>\n",
       "      <td>1</td>\n",
       "      <td>1</td>\n",
       "    </tr>\n",
       "    <tr>\n",
       "      <th>292</th>\n",
       "      <td>8</td>\n",
       "      <td>8</td>\n",
       "      <td>8</td>\n",
       "      <td>1</td>\n",
       "      <td>2</td>\n",
       "      <td>NaN</td>\n",
       "      <td>6</td>\n",
       "      <td>10</td>\n",
       "      <td>1</td>\n",
       "    </tr>\n",
       "    <tr>\n",
       "      <th>294</th>\n",
       "      <td>1</td>\n",
       "      <td>1</td>\n",
       "      <td>1</td>\n",
       "      <td>1</td>\n",
       "      <td>2</td>\n",
       "      <td>NaN</td>\n",
       "      <td>2</td>\n",
       "      <td>1</td>\n",
       "      <td>1</td>\n",
       "    </tr>\n",
       "    <tr>\n",
       "      <th>297</th>\n",
       "      <td>5</td>\n",
       "      <td>4</td>\n",
       "      <td>3</td>\n",
       "      <td>1</td>\n",
       "      <td>2</td>\n",
       "      <td>NaN</td>\n",
       "      <td>2</td>\n",
       "      <td>3</td>\n",
       "      <td>1</td>\n",
       "    </tr>\n",
       "    <tr>\n",
       "      <th>315</th>\n",
       "      <td>4</td>\n",
       "      <td>6</td>\n",
       "      <td>5</td>\n",
       "      <td>6</td>\n",
       "      <td>7</td>\n",
       "      <td>NaN</td>\n",
       "      <td>4</td>\n",
       "      <td>9</td>\n",
       "      <td>1</td>\n",
       "    </tr>\n",
       "    <tr>\n",
       "      <th>321</th>\n",
       "      <td>3</td>\n",
       "      <td>1</td>\n",
       "      <td>1</td>\n",
       "      <td>1</td>\n",
       "      <td>2</td>\n",
       "      <td>NaN</td>\n",
       "      <td>3</td>\n",
       "      <td>1</td>\n",
       "      <td>1</td>\n",
       "    </tr>\n",
       "    <tr>\n",
       "      <th>411</th>\n",
       "      <td>1</td>\n",
       "      <td>1</td>\n",
       "      <td>1</td>\n",
       "      <td>1</td>\n",
       "      <td>1</td>\n",
       "      <td>NaN</td>\n",
       "      <td>2</td>\n",
       "      <td>1</td>\n",
       "      <td>1</td>\n",
       "    </tr>\n",
       "    <tr>\n",
       "      <th>617</th>\n",
       "      <td>1</td>\n",
       "      <td>1</td>\n",
       "      <td>1</td>\n",
       "      <td>1</td>\n",
       "      <td>1</td>\n",
       "      <td>NaN</td>\n",
       "      <td>1</td>\n",
       "      <td>1</td>\n",
       "      <td>1</td>\n",
       "    </tr>\n",
       "  </tbody>\n",
       "</table>\n",
       "</div>"
      ],
      "text/plain": [
       "     Clump_thickness  Uniformity_of_cell_size  Uniformity_of_cell_shape  \\\n",
       "23                 8                        4                         5   \n",
       "40                 6                        6                         6   \n",
       "139                1                        1                         1   \n",
       "145                1                        1                         3   \n",
       "158                1                        1                         2   \n",
       "164                5                        1                         1   \n",
       "235                3                        1                         4   \n",
       "249                3                        1                         1   \n",
       "275                3                        1                         3   \n",
       "292                8                        8                         8   \n",
       "294                1                        1                         1   \n",
       "297                5                        4                         3   \n",
       "315                4                        6                         5   \n",
       "321                3                        1                         1   \n",
       "411                1                        1                         1   \n",
       "617                1                        1                         1   \n",
       "\n",
       "     Marginal_adhesion  Single_epithelial_cell_size  Bare_nuclei  \\\n",
       "23                   1                            2          NaN   \n",
       "40                   9                            6          NaN   \n",
       "139                  1                            1          NaN   \n",
       "145                  1                            2          NaN   \n",
       "158                  1                            3          NaN   \n",
       "164                  1                            2          NaN   \n",
       "235                  1                            2          NaN   \n",
       "249                  1                            2          NaN   \n",
       "275                  1                            2          NaN   \n",
       "292                  1                            2          NaN   \n",
       "294                  1                            2          NaN   \n",
       "297                  1                            2          NaN   \n",
       "315                  6                            7          NaN   \n",
       "321                  1                            2          NaN   \n",
       "411                  1                            1          NaN   \n",
       "617                  1                            1          NaN   \n",
       "\n",
       "     Bland_chromatin  Normal_nucleoli  Mitoses  \n",
       "23                 7                3        1  \n",
       "40                 7                8        1  \n",
       "139                2                1        1  \n",
       "145                2                1        1  \n",
       "158                1                1        1  \n",
       "164                3                1        1  \n",
       "235                3                1        1  \n",
       "249                3                1        1  \n",
       "275                2                1        1  \n",
       "292                6               10        1  \n",
       "294                2                1        1  \n",
       "297                2                3        1  \n",
       "315                4                9        1  \n",
       "321                3                1        1  \n",
       "411                2                1        1  \n",
       "617                1                1        1  "
      ]
     },
     "execution_count": 5,
     "metadata": {},
     "output_type": "execute_result"
    }
   ],
   "source": [
    "X[pd.isnull(X.Bare_nuclei)]"
   ]
  },
  {
   "cell_type": "code",
   "execution_count": 64,
   "id": "f102ba71-64ea-4cb5-996e-4344760546e5",
   "metadata": {},
   "outputs": [],
   "source": [
    "import matplotlib.pyplot as plt\n",
    "import numpy as np"
   ]
  },
  {
   "cell_type": "markdown",
   "id": "8fee474d-ea6f-4296-b067-5f1cdd32fec9",
   "metadata": {},
   "source": [
    "Mediante la librería de pandas es posible realizar las gráficas de cajas con el métood de `boxplot`"
   ]
  },
  {
   "cell_type": "code",
   "execution_count": 15,
   "id": "0b6d8135-4b49-4b05-865e-ba31923dbe2c",
   "metadata": {},
   "outputs": [
    {
     "data": {
      "text/plain": [
       "<Axes: >"
      ]
     },
     "execution_count": 15,
     "metadata": {},
     "output_type": "execute_result"
    },
    {
     "data": {
      "image/png": "[encoded data removed]",
      "text/plain": [
       "<Figure size 640x480 with 1 Axes>"
      ]
     },
     "metadata": {},
     "output_type": "display_data"
    }
   ],
   "source": [
    "X.boxplot(column=['Marginal_adhesion'])"
   ]
  },
  {
   "cell_type": "markdown",
   "id": "6ed15df1-e562-4ee6-8045-9a0bd3598b70",
   "metadata": {},
   "source": [
    "Con la librería de `matplotlib` esta es la forma de hacer gráficos de cajas"
   ]
  },
  {
   "cell_type": "code",
   "execution_count": 17,
   "id": "8cf61beb-b02b-4b4e-b656-6bd59d4650d5",
   "metadata": {},
   "outputs": [
    {
     "data": {
      "image/png": "[encoded data removed]",
      "text/plain": [
       "<Figure size 640x480 with 1 Axes>"
      ]
     },
     "metadata": {},
     "output_type": "display_data"
    }
   ],
   "source": [
    "columns_name = [\n",
    "    'Grosor de masa',\n",
    "    'Uniformidad del tamaño celular',\n",
    "    'Uniformidad de la forma celular',\n",
    "    'Adherencia marginal',\n",
    "    'Tamaño de una célula epitelial',\n",
    "    'Núcleos descubiertos',\n",
    "    'Cromatina blanda',\n",
    "    'Nucleolos normales',\n",
    "    'Mitosis']\n",
    "\n",
    "fig, ax = plt.subplots()\n",
    "ax.boxplot(X.values, tick_labels=columns_name,\n",
    "           patch_artist=True, \n",
    "           boxprops={'facecolor':'b'}, \n",
    "           vert=False,\n",
    "           #showmeans=True,\n",
    "           #meanline=True,\n",
    "           medianprops=dict(color='red', linewidth=1.5)\n",
    "          )\n",
    "#plt.xticks(rotation=90)\n",
    "\n",
    "plt.show()"
   ]
  },
  {
   "cell_type": "markdown",
   "id": "66e6e6de-555b-43ea-9997-9faafeeeed09",
   "metadata": {},
   "source": [
    "## Tratamientos de datos\n",
    "### Drop\n",
    "Verificar el porcentaje que representan los valores nulos mediante la formula:\n",
    "$$porcentaje valores nulos = \\frac{valores nulos}{total de valores}\\times 100$$"
   ]
  },
  {
   "cell_type": "code",
   "execution_count": 34,
   "id": "c698a4d1-1a37-4dc1-a66c-3d60aaa4e37d",
   "metadata": {},
   "outputs": [
    {
     "data": {
      "text/plain": [
       "Clump_thickness                0.000000\n",
       "Uniformity_of_cell_size        0.000000\n",
       "Uniformity_of_cell_shape       0.000000\n",
       "Marginal_adhesion              0.000000\n",
       "Single_epithelial_cell_size    0.000000\n",
       "Bare_nuclei                    2.288984\n",
       "Bland_chromatin                0.000000\n",
       "Normal_nucleoli                0.000000\n",
       "Mitoses                        0.000000\n",
       "dtype: float64"
      ]
     },
     "execution_count": 34,
     "metadata": {},
     "output_type": "execute_result"
    }
   ],
   "source": [
    "(X.isnull().sum()/X.shape[0])*100"
   ]
  },
  {
   "cell_type": "code",
   "execution_count": 42,
   "id": "49ba9535-2b6d-4881-9629-f8a457f2d1d7",
   "metadata": {},
   "outputs": [],
   "source": [
    "df_copy = X.copy() # Copia del data frame"
   ]
  },
  {
   "cell_type": "code",
   "execution_count": 44,
   "id": "52f586c0-e59b-457f-ba07-fbc11f2a7783",
   "metadata": {},
   "outputs": [
    {
     "name": "stdout",
     "output_type": "stream",
     "text": [
      "<class 'pandas.core.frame.DataFrame'>\n",
      "RangeIndex: 699 entries, 0 to 698\n",
      "Data columns (total 9 columns):\n",
      " #   Column                       Non-Null Count  Dtype  \n",
      "---  ------                       --------------  -----  \n",
      " 0   Clump_thickness              699 non-null    int64  \n",
      " 1   Uniformity_of_cell_size      699 non-null    int64  \n",
      " 2   Uniformity_of_cell_shape     699 non-null    int64  \n",
      " 3   Marginal_adhesion            699 non-null    int64  \n",
      " 4   Single_epithelial_cell_size  699 non-null    int64  \n",
      " 5   Bare_nuclei                  683 non-null    float64\n",
      " 6   Bland_chromatin              699 non-null    int64  \n",
      " 7   Normal_nucleoli              699 non-null    int64  \n",
      " 8   Mitoses                      699 non-null    int64  \n",
      "dtypes: float64(1), int64(8)\n",
      "memory usage: 49.3 KB\n"
     ]
    }
   ],
   "source": [
    "df_copy.info() # Información del DataFrame"
   ]
  },
  {
   "cell_type": "code",
   "execution_count": 46,
   "id": "25f44261-031a-4d5a-a4b4-80387729c515",
   "metadata": {},
   "outputs": [],
   "source": [
    "df_drop = df_copy.dropna()"
   ]
  },
  {
   "cell_type": "code",
   "execution_count": 48,
   "id": "5cdceeed-c92f-4b1b-9b04-87c730287a2d",
   "metadata": {},
   "outputs": [
    {
     "name": "stdout",
     "output_type": "stream",
     "text": [
      "<class 'pandas.core.frame.DataFrame'>\n",
      "Index: 683 entries, 0 to 698\n",
      "Data columns (total 9 columns):\n",
      " #   Column                       Non-Null Count  Dtype  \n",
      "---  ------                       --------------  -----  \n",
      " 0   Clump_thickness              683 non-null    int64  \n",
      " 1   Uniformity_of_cell_size      683 non-null    int64  \n",
      " 2   Uniformity_of_cell_shape     683 non-null    int64  \n",
      " 3   Marginal_adhesion            683 non-null    int64  \n",
      " 4   Single_epithelial_cell_size  683 non-null    int64  \n",
      " 5   Bare_nuclei                  683 non-null    float64\n",
      " 6   Bland_chromatin              683 non-null    int64  \n",
      " 7   Normal_nucleoli              683 non-null    int64  \n",
      " 8   Mitoses                      683 non-null    int64  \n",
      "dtypes: float64(1), int64(8)\n",
      "memory usage: 53.4 KB\n"
     ]
    }
   ],
   "source": [
    "df_drop.info()"
   ]
  },
  {
   "cell_type": "code",
   "execution_count": 50,
   "id": "34feb5ae-b8ac-4baf-b1dc-8ed1b0b351ea",
   "metadata": {},
   "outputs": [],
   "source": [
    "df_drop_sub = df_copy.dropna(subset=['Bare_nuclei'])"
   ]
  },
  {
   "cell_type": "code",
   "execution_count": 54,
   "id": "becee01a-a576-4ff0-aaad-7e5210cbbe9a",
   "metadata": {},
   "outputs": [
    {
     "name": "stdout",
     "output_type": "stream",
     "text": [
      "<class 'pandas.core.frame.DataFrame'>\n",
      "Index: 683 entries, 0 to 698\n",
      "Data columns (total 9 columns):\n",
      " #   Column                       Non-Null Count  Dtype  \n",
      "---  ------                       --------------  -----  \n",
      " 0   Clump_thickness              683 non-null    int64  \n",
      " 1   Uniformity_of_cell_size      683 non-null    int64  \n",
      " 2   Uniformity_of_cell_shape     683 non-null    int64  \n",
      " 3   Marginal_adhesion            683 non-null    int64  \n",
      " 4   Single_epithelial_cell_size  683 non-null    int64  \n",
      " 5   Bare_nuclei                  683 non-null    float64\n",
      " 6   Bland_chromatin              683 non-null    int64  \n",
      " 7   Normal_nucleoli              683 non-null    int64  \n",
      " 8   Mitoses                      683 non-null    int64  \n",
      "dtypes: float64(1), int64(8)\n",
      "memory usage: 53.4 KB\n"
     ]
    }
   ],
   "source": [
    "df_drop_sub.info()"
   ]
  },
  {
   "cell_type": "code",
   "execution_count": 56,
   "id": "28596106-4082-4646-a829-9ee82eca2123",
   "metadata": {},
   "outputs": [],
   "source": [
    "df_drop_axis = df_copy.dropna(axis=1)"
   ]
  },
  {
   "cell_type": "code",
   "execution_count": 58,
   "id": "4d99313b-4ae4-4509-9900-7a7db2272985",
   "metadata": {},
   "outputs": [
    {
     "name": "stdout",
     "output_type": "stream",
     "text": [
      "<class 'pandas.core.frame.DataFrame'>\n",
      "RangeIndex: 699 entries, 0 to 698\n",
      "Data columns (total 8 columns):\n",
      " #   Column                       Non-Null Count  Dtype\n",
      "---  ------                       --------------  -----\n",
      " 0   Clump_thickness              699 non-null    int64\n",
      " 1   Uniformity_of_cell_size      699 non-null    int64\n",
      " 2   Uniformity_of_cell_shape     699 non-null    int64\n",
      " 3   Marginal_adhesion            699 non-null    int64\n",
      " 4   Single_epithelial_cell_size  699 non-null    int64\n",
      " 5   Bland_chromatin              699 non-null    int64\n",
      " 6   Normal_nucleoli              699 non-null    int64\n",
      " 7   Mitoses                      699 non-null    int64\n",
      "dtypes: int64(8)\n",
      "memory usage: 43.8 KB\n"
     ]
    }
   ],
   "source": [
    "df_drop_axis.info()"
   ]
  },
  {
   "cell_type": "code",
   "execution_count": 60,
   "id": "183b9c1a-486b-4deb-ab73-d3ce12a9ca9c",
   "metadata": {},
   "outputs": [],
   "source": [
    "df_drop_how1 = df_copy.dropna(how='all')"
   ]
  },
  {
   "cell_type": "code",
   "execution_count": 70,
   "id": "1593b03b-818d-4fc2-96a8-96d0608bd5f0",
   "metadata": {},
   "outputs": [
    {
     "name": "stdout",
     "output_type": "stream",
     "text": [
      "<class 'pandas.core.frame.DataFrame'>\n",
      "RangeIndex: 699 entries, 0 to 698\n",
      "Data columns (total 9 columns):\n",
      " #   Column                       Non-Null Count  Dtype  \n",
      "---  ------                       --------------  -----  \n",
      " 0   Clump_thickness              699 non-null    int64  \n",
      " 1   Uniformity_of_cell_size      699 non-null    int64  \n",
      " 2   Uniformity_of_cell_shape     699 non-null    int64  \n",
      " 3   Marginal_adhesion            699 non-null    int64  \n",
      " 4   Single_epithelial_cell_size  699 non-null    int64  \n",
      " 5   Bare_nuclei                  683 non-null    float64\n",
      " 6   Bland_chromatin              699 non-null    int64  \n",
      " 7   Normal_nucleoli              699 non-null    int64  \n",
      " 8   Mitoses                      699 non-null    int64  \n",
      "dtypes: float64(1), int64(8)\n",
      "memory usage: 49.3 KB\n"
     ]
    }
   ],
   "source": [
    "df_drop_how1.info()"
   ]
  },
  {
   "cell_type": "code",
   "execution_count": 66,
   "id": "5016eec5-fe23-47a4-bdb4-a97c2fda6ce5",
   "metadata": {},
   "outputs": [],
   "source": [
    "df_drop_how2 = df_copy.dropna(how='any')"
   ]
  },
  {
   "cell_type": "code",
   "execution_count": 68,
   "id": "03f04e1a-600f-4d22-b62a-b26b24e7d99e",
   "metadata": {},
   "outputs": [
    {
     "name": "stdout",
     "output_type": "stream",
     "text": [
      "<class 'pandas.core.frame.DataFrame'>\n",
      "Index: 683 entries, 0 to 698\n",
      "Data columns (total 9 columns):\n",
      " #   Column                       Non-Null Count  Dtype  \n",
      "---  ------                       --------------  -----  \n",
      " 0   Clump_thickness              683 non-null    int64  \n",
      " 1   Uniformity_of_cell_size      683 non-null    int64  \n",
      " 2   Uniformity_of_cell_shape     683 non-null    int64  \n",
      " 3   Marginal_adhesion            683 non-null    int64  \n",
      " 4   Single_epithelial_cell_size  683 non-null    int64  \n",
      " 5   Bare_nuclei                  683 non-null    float64\n",
      " 6   Bland_chromatin              683 non-null    int64  \n",
      " 7   Normal_nucleoli              683 non-null    int64  \n",
      " 8   Mitoses                      683 non-null    int64  \n",
      "dtypes: float64(1), int64(8)\n",
      "memory usage: 53.4 KB\n"
     ]
    }
   ],
   "source": [
    "df_drop_how2.info()"
   ]
  },
  {
   "cell_type": "markdown",
   "id": "847a6c0e-cfa1-4cf9-aa81-f03fec12c6e1",
   "metadata": {},
   "source": [
    "# Métodos de imputación de datos\n",
    "Los métodos de imputación de datos más sencillos son por media, mediana o simplemente reemplazando por cero a los valores faltantes.\n",
    "\n",
    "Primero reemplazaremos los valores faltantes:"
   ]
  },
  {
   "cell_type": "code",
   "execution_count": 3,
   "id": "85c23b3e-5cf7-441b-bb6c-94e5c2b81ba9",
   "metadata": {},
   "outputs": [],
   "source": [
    "impt_1 = X.copy() # Generamos una copia del data frame"
   ]
  },
  {
   "cell_type": "code",
   "execution_count": 5,
   "id": "816db2a4-5d61-4029-a736-3a938ba3b0f0",
   "metadata": {},
   "outputs": [],
   "source": [
    "impt_1['Bare_nuclei_fill'] = impt_1['Bare_nuclei']"
   ]
  },
  {
   "cell_type": "code",
   "execution_count": 7,
   "id": "abe1889f-bc63-47f3-9911-334dac549e2e",
   "metadata": {},
   "outputs": [
    {
     "data": {
      "text/html": [
       "<div>\n",
       "<style scoped>\n",
       "    .dataframe tbody tr th:only-of-type {\n",
       "        vertical-align: middle;\n",
       "    }\n",
       "\n",
       "    .dataframe tbody tr th {\n",
       "        vertical-align: top;\n",
       "    }\n",
       "\n",
       "    .dataframe thead th {\n",
       "        text-align: right;\n",
       "    }\n",
       "</style>\n",
       "<table border=\"1\" class=\"dataframe\">\n",
       "  <thead>\n",
       "    <tr style=\"text-align: right;\">\n",
       "      <th></th>\n",
       "      <th>Clump_thickness</th>\n",
       "      <th>Uniformity_of_cell_size</th>\n",
       "      <th>Uniformity_of_cell_shape</th>\n",
       "      <th>Marginal_adhesion</th>\n",
       "      <th>Single_epithelial_cell_size</th>\n",
       "      <th>Bare_nuclei</th>\n",
       "      <th>Bland_chromatin</th>\n",
       "      <th>Normal_nucleoli</th>\n",
       "      <th>Mitoses</th>\n",
       "      <th>Bare_nuclei_fill</th>\n",
       "    </tr>\n",
       "  </thead>\n",
       "  <tbody>\n",
       "    <tr>\n",
       "      <th>0</th>\n",
       "      <td>5</td>\n",
       "      <td>1</td>\n",
       "      <td>1</td>\n",
       "      <td>1</td>\n",
       "      <td>2</td>\n",
       "      <td>1.0</td>\n",
       "      <td>3</td>\n",
       "      <td>1</td>\n",
       "      <td>1</td>\n",
       "      <td>1.0</td>\n",
       "    </tr>\n",
       "    <tr>\n",
       "      <th>1</th>\n",
       "      <td>5</td>\n",
       "      <td>4</td>\n",
       "      <td>4</td>\n",
       "      <td>5</td>\n",
       "      <td>7</td>\n",
       "      <td>10.0</td>\n",
       "      <td>3</td>\n",
       "      <td>2</td>\n",
       "      <td>1</td>\n",
       "      <td>10.0</td>\n",
       "    </tr>\n",
       "    <tr>\n",
       "      <th>2</th>\n",
       "      <td>3</td>\n",
       "      <td>1</td>\n",
       "      <td>1</td>\n",
       "      <td>1</td>\n",
       "      <td>2</td>\n",
       "      <td>2.0</td>\n",
       "      <td>3</td>\n",
       "      <td>1</td>\n",
       "      <td>1</td>\n",
       "      <td>2.0</td>\n",
       "    </tr>\n",
       "    <tr>\n",
       "      <th>3</th>\n",
       "      <td>6</td>\n",
       "      <td>8</td>\n",
       "      <td>8</td>\n",
       "      <td>1</td>\n",
       "      <td>3</td>\n",
       "      <td>4.0</td>\n",
       "      <td>3</td>\n",
       "      <td>7</td>\n",
       "      <td>1</td>\n",
       "      <td>4.0</td>\n",
       "    </tr>\n",
       "    <tr>\n",
       "      <th>4</th>\n",
       "      <td>4</td>\n",
       "      <td>1</td>\n",
       "      <td>1</td>\n",
       "      <td>3</td>\n",
       "      <td>2</td>\n",
       "      <td>1.0</td>\n",
       "      <td>3</td>\n",
       "      <td>1</td>\n",
       "      <td>1</td>\n",
       "      <td>1.0</td>\n",
       "    </tr>\n",
       "  </tbody>\n",
       "</table>\n",
       "</div>"
      ],
      "text/plain": [
       "   Clump_thickness  Uniformity_of_cell_size  Uniformity_of_cell_shape  \\\n",
       "0                5                        1                         1   \n",
       "1                5                        4                         4   \n",
       "2                3                        1                         1   \n",
       "3                6                        8                         8   \n",
       "4                4                        1                         1   \n",
       "\n",
       "   Marginal_adhesion  Single_epithelial_cell_size  Bare_nuclei  \\\n",
       "0                  1                            2          1.0   \n",
       "1                  5                            7         10.0   \n",
       "2                  1                            2          2.0   \n",
       "3                  1                            3          4.0   \n",
       "4                  3                            2          1.0   \n",
       "\n",
       "   Bland_chromatin  Normal_nucleoli  Mitoses  Bare_nuclei_fill  \n",
       "0                3                1        1               1.0  \n",
       "1                3                2        1              10.0  \n",
       "2                3                1        1               2.0  \n",
       "3                3                7        1               4.0  \n",
       "4                3                1        1               1.0  "
      ]
     },
     "execution_count": 7,
     "metadata": {},
     "output_type": "execute_result"
    }
   ],
   "source": [
    "impt_1.head()"
   ]
  },
  {
   "cell_type": "code",
   "execution_count": 9,
   "id": "4b309176-ae62-45c3-b84b-bea6803283c5",
   "metadata": {},
   "outputs": [],
   "source": [
    "impt_1['Bare_nuclei_fill'] = impt_1['Bare_nuclei_fill'].fillna(0)"
   ]
  },
  {
   "cell_type": "code",
   "execution_count": 11,
   "id": "d94c8a65-2b20-41a7-aa96-4931aabdb6ce",
   "metadata": {},
   "outputs": [
    {
     "data": {
      "text/html": [
       "<div>\n",
       "<style scoped>\n",
       "    .dataframe tbody tr th:only-of-type {\n",
       "        vertical-align: middle;\n",
       "    }\n",
       "\n",
       "    .dataframe tbody tr th {\n",
       "        vertical-align: top;\n",
       "    }\n",
       "\n",
       "    .dataframe thead th {\n",
       "        text-align: right;\n",
       "    }\n",
       "</style>\n",
       "<table border=\"1\" class=\"dataframe\">\n",
       "  <thead>\n",
       "    <tr style=\"text-align: right;\">\n",
       "      <th></th>\n",
       "      <th>Bare_nuclei_fill</th>\n",
       "      <th>Bare_nuclei</th>\n",
       "    </tr>\n",
       "  </thead>\n",
       "  <tbody>\n",
       "    <tr>\n",
       "      <th>count</th>\n",
       "      <td>699.000000</td>\n",
       "      <td>683.000000</td>\n",
       "    </tr>\n",
       "    <tr>\n",
       "      <th>mean</th>\n",
       "      <td>3.463519</td>\n",
       "      <td>3.544656</td>\n",
       "    </tr>\n",
       "    <tr>\n",
       "      <th>std</th>\n",
       "      <td>3.640708</td>\n",
       "      <td>3.643857</td>\n",
       "    </tr>\n",
       "    <tr>\n",
       "      <th>min</th>\n",
       "      <td>0.000000</td>\n",
       "      <td>1.000000</td>\n",
       "    </tr>\n",
       "    <tr>\n",
       "      <th>25%</th>\n",
       "      <td>1.000000</td>\n",
       "      <td>1.000000</td>\n",
       "    </tr>\n",
       "    <tr>\n",
       "      <th>50%</th>\n",
       "      <td>1.000000</td>\n",
       "      <td>1.000000</td>\n",
       "    </tr>\n",
       "    <tr>\n",
       "      <th>75%</th>\n",
       "      <td>5.000000</td>\n",
       "      <td>6.000000</td>\n",
       "    </tr>\n",
       "    <tr>\n",
       "      <th>max</th>\n",
       "      <td>10.000000</td>\n",
       "      <td>10.000000</td>\n",
       "    </tr>\n",
       "  </tbody>\n",
       "</table>\n",
       "</div>"
      ],
      "text/plain": [
       "       Bare_nuclei_fill  Bare_nuclei\n",
       "count        699.000000   683.000000\n",
       "mean           3.463519     3.544656\n",
       "std            3.640708     3.643857\n",
       "min            0.000000     1.000000\n",
       "25%            1.000000     1.000000\n",
       "50%            1.000000     1.000000\n",
       "75%            5.000000     6.000000\n",
       "max           10.000000    10.000000"
      ]
     },
     "execution_count": 11,
     "metadata": {},
     "output_type": "execute_result"
    }
   ],
   "source": [
    "impt_1[['Bare_nuclei_fill','Bare_nuclei']].describe()"
   ]
  },
  {
   "cell_type": "code",
   "execution_count": 13,
   "id": "5aaa5b49-99fd-4482-b4f9-b9833d5f563d",
   "metadata": {},
   "outputs": [],
   "source": [
    "impt_1['Bare_median'] = impt_1.Bare_nuclei.fillna(impt_1.Bare_nuclei_fill.median())"
   ]
  },
  {
   "cell_type": "code",
   "execution_count": 15,
   "id": "e1f17bab-98fa-4039-93ae-edd6f45f3ce4",
   "metadata": {},
   "outputs": [
    {
     "data": {
      "text/html": [
       "<div>\n",
       "<style scoped>\n",
       "    .dataframe tbody tr th:only-of-type {\n",
       "        vertical-align: middle;\n",
       "    }\n",
       "\n",
       "    .dataframe tbody tr th {\n",
       "        vertical-align: top;\n",
       "    }\n",
       "\n",
       "    .dataframe thead th {\n",
       "        text-align: right;\n",
       "    }\n",
       "</style>\n",
       "<table border=\"1\" class=\"dataframe\">\n",
       "  <thead>\n",
       "    <tr style=\"text-align: right;\">\n",
       "      <th></th>\n",
       "      <th>Bare_nuclei_fill</th>\n",
       "      <th>Bare_median</th>\n",
       "      <th>Bare_nuclei</th>\n",
       "    </tr>\n",
       "  </thead>\n",
       "  <tbody>\n",
       "    <tr>\n",
       "      <th>count</th>\n",
       "      <td>699.000000</td>\n",
       "      <td>699.000000</td>\n",
       "      <td>683.000000</td>\n",
       "    </tr>\n",
       "    <tr>\n",
       "      <th>mean</th>\n",
       "      <td>3.463519</td>\n",
       "      <td>3.486409</td>\n",
       "      <td>3.544656</td>\n",
       "    </tr>\n",
       "    <tr>\n",
       "      <th>std</th>\n",
       "      <td>3.640708</td>\n",
       "      <td>3.621929</td>\n",
       "      <td>3.643857</td>\n",
       "    </tr>\n",
       "    <tr>\n",
       "      <th>min</th>\n",
       "      <td>0.000000</td>\n",
       "      <td>1.000000</td>\n",
       "      <td>1.000000</td>\n",
       "    </tr>\n",
       "    <tr>\n",
       "      <th>25%</th>\n",
       "      <td>1.000000</td>\n",
       "      <td>1.000000</td>\n",
       "      <td>1.000000</td>\n",
       "    </tr>\n",
       "    <tr>\n",
       "      <th>50%</th>\n",
       "      <td>1.000000</td>\n",
       "      <td>1.000000</td>\n",
       "      <td>1.000000</td>\n",
       "    </tr>\n",
       "    <tr>\n",
       "      <th>75%</th>\n",
       "      <td>5.000000</td>\n",
       "      <td>5.000000</td>\n",
       "      <td>6.000000</td>\n",
       "    </tr>\n",
       "    <tr>\n",
       "      <th>max</th>\n",
       "      <td>10.000000</td>\n",
       "      <td>10.000000</td>\n",
       "      <td>10.000000</td>\n",
       "    </tr>\n",
       "  </tbody>\n",
       "</table>\n",
       "</div>"
      ],
      "text/plain": [
       "       Bare_nuclei_fill  Bare_median  Bare_nuclei\n",
       "count        699.000000   699.000000   683.000000\n",
       "mean           3.463519     3.486409     3.544656\n",
       "std            3.640708     3.621929     3.643857\n",
       "min            0.000000     1.000000     1.000000\n",
       "25%            1.000000     1.000000     1.000000\n",
       "50%            1.000000     1.000000     1.000000\n",
       "75%            5.000000     5.000000     6.000000\n",
       "max           10.000000    10.000000    10.000000"
      ]
     },
     "execution_count": 15,
     "metadata": {},
     "output_type": "execute_result"
    }
   ],
   "source": [
    "impt_1[['Bare_nuclei_fill','Bare_median', 'Bare_nuclei']].describe()"
   ]
  },
  {
   "cell_type": "code",
   "execution_count": 17,
   "id": "933f673b-3f9d-4259-a996-1132ee0e1388",
   "metadata": {},
   "outputs": [],
   "source": [
    "impt_1['Bare_media'] = impt_1.Bare_nuclei.fillna(impt_1.Bare_nuclei_fill.mean())"
   ]
  },
  {
   "cell_type": "code",
   "execution_count": 19,
   "id": "bf7e6443-8e4e-4efb-8f8c-b77126d71b2c",
   "metadata": {},
   "outputs": [
    {
     "data": {
      "text/html": [
       "<div>\n",
       "<style scoped>\n",
       "    .dataframe tbody tr th:only-of-type {\n",
       "        vertical-align: middle;\n",
       "    }\n",
       "\n",
       "    .dataframe tbody tr th {\n",
       "        vertical-align: top;\n",
       "    }\n",
       "\n",
       "    .dataframe thead th {\n",
       "        text-align: right;\n",
       "    }\n",
       "</style>\n",
       "<table border=\"1\" class=\"dataframe\">\n",
       "  <thead>\n",
       "    <tr style=\"text-align: right;\">\n",
       "      <th></th>\n",
       "      <th>Bare_nuclei_fill</th>\n",
       "      <th>Bare_median</th>\n",
       "      <th>Bare_media</th>\n",
       "    </tr>\n",
       "  </thead>\n",
       "  <tbody>\n",
       "    <tr>\n",
       "      <th>count</th>\n",
       "      <td>699.000000</td>\n",
       "      <td>699.000000</td>\n",
       "      <td>699.000000</td>\n",
       "    </tr>\n",
       "    <tr>\n",
       "      <th>mean</th>\n",
       "      <td>3.463519</td>\n",
       "      <td>3.486409</td>\n",
       "      <td>3.542799</td>\n",
       "    </tr>\n",
       "    <tr>\n",
       "      <th>std</th>\n",
       "      <td>3.640708</td>\n",
       "      <td>3.621929</td>\n",
       "      <td>3.601872</td>\n",
       "    </tr>\n",
       "    <tr>\n",
       "      <th>min</th>\n",
       "      <td>0.000000</td>\n",
       "      <td>1.000000</td>\n",
       "      <td>1.000000</td>\n",
       "    </tr>\n",
       "    <tr>\n",
       "      <th>25%</th>\n",
       "      <td>1.000000</td>\n",
       "      <td>1.000000</td>\n",
       "      <td>1.000000</td>\n",
       "    </tr>\n",
       "    <tr>\n",
       "      <th>50%</th>\n",
       "      <td>1.000000</td>\n",
       "      <td>1.000000</td>\n",
       "      <td>1.000000</td>\n",
       "    </tr>\n",
       "    <tr>\n",
       "      <th>75%</th>\n",
       "      <td>5.000000</td>\n",
       "      <td>5.000000</td>\n",
       "      <td>5.000000</td>\n",
       "    </tr>\n",
       "    <tr>\n",
       "      <th>max</th>\n",
       "      <td>10.000000</td>\n",
       "      <td>10.000000</td>\n",
       "      <td>10.000000</td>\n",
       "    </tr>\n",
       "  </tbody>\n",
       "</table>\n",
       "</div>"
      ],
      "text/plain": [
       "       Bare_nuclei_fill  Bare_median  Bare_media\n",
       "count        699.000000   699.000000  699.000000\n",
       "mean           3.463519     3.486409    3.542799\n",
       "std            3.640708     3.621929    3.601872\n",
       "min            0.000000     1.000000    1.000000\n",
       "25%            1.000000     1.000000    1.000000\n",
       "50%            1.000000     1.000000    1.000000\n",
       "75%            5.000000     5.000000    5.000000\n",
       "max           10.000000    10.000000   10.000000"
      ]
     },
     "execution_count": 19,
     "metadata": {},
     "output_type": "execute_result"
    }
   ],
   "source": [
    "impt_1[['Bare_nuclei_fill', 'Bare_median', 'Bare_media']].describe()"
   ]
  },
  {
   "cell_type": "markdown",
   "id": "05f2f832-6b09-4140-b10c-d6b7113d3e65",
   "metadata": {},
   "source": [
    "Con `method='pad'` los valores nulos se reemplazan con el valor anterior a ella y con `method='bfill'` se reemplaza con el valor posterior a ella"
   ]
  },
  {
   "cell_type": "code",
   "execution_count": 43,
   "id": "56e4e6e4-5bf9-44f8-913e-261ab1aaf891",
   "metadata": {},
   "outputs": [
    {
     "name": "stderr",
     "output_type": "stream",
     "text": [
      "/tmp/ipykernel_4320/3889938757.py:1: FutureWarning: Series.fillna with 'method' is deprecated and will raise in a future version. Use obj.ffill() or obj.bfill() instead.\n",
      "  impt_1['Bare_pad'] = impt_1.Bare_nuclei.fillna(method='pad')\n"
     ]
    }
   ],
   "source": [
    "impt_1['Bare_pad'] = impt_1.Bare_nuclei.fillna(method='pad')"
   ]
  },
  {
   "cell_type": "code",
   "execution_count": 45,
   "id": "67d1b089-26a1-4e47-a038-1d81aa5f0cf6",
   "metadata": {},
   "outputs": [
    {
     "data": {
      "text/plain": [
       "20    10.0\n",
       "21     7.0\n",
       "22     1.0\n",
       "23     1.0\n",
       "24     1.0\n",
       "25     7.0\n",
       "26     1.0\n",
       "27     1.0\n",
       "28     1.0\n",
       "29     1.0\n",
       "30     1.0\n",
       "31     1.0\n",
       "32     5.0\n",
       "33     1.0\n",
       "34     1.0\n",
       "35     1.0\n",
       "36     1.0\n",
       "37     1.0\n",
       "38    10.0\n",
       "39     7.0\n",
       "40     7.0\n",
       "41     3.0\n",
       "Name: Bare_pad, dtype: float64"
      ]
     },
     "execution_count": 45,
     "metadata": {},
     "output_type": "execute_result"
    }
   ],
   "source": [
    "impt_1['Bare_pad'][20:42]"
   ]
  },
  {
   "cell_type": "code",
   "execution_count": 47,
   "id": "4e412416-ddbb-4a60-afa8-581156e8008c",
   "metadata": {},
   "outputs": [
    {
     "data": {
      "text/plain": [
       "20    10.0\n",
       "21     7.0\n",
       "22     1.0\n",
       "23     NaN\n",
       "24     1.0\n",
       "25     7.0\n",
       "26     1.0\n",
       "27     1.0\n",
       "28     1.0\n",
       "29     1.0\n",
       "30     1.0\n",
       "31     1.0\n",
       "32     5.0\n",
       "33     1.0\n",
       "34     1.0\n",
       "35     1.0\n",
       "36     1.0\n",
       "37     1.0\n",
       "38    10.0\n",
       "39     7.0\n",
       "40     NaN\n",
       "41     3.0\n",
       "Name: Bare_nuclei, dtype: float64"
      ]
     },
     "execution_count": 47,
     "metadata": {},
     "output_type": "execute_result"
    }
   ],
   "source": [
    "impt_1['Bare_nuclei'][20:42]"
   ]
  },
  {
   "cell_type": "code",
   "execution_count": 54,
   "id": "17ec2efa-ae03-4f1c-b013-a397da240bbf",
   "metadata": {},
   "outputs": [
    {
     "name": "stderr",
     "output_type": "stream",
     "text": [
      "/tmp/ipykernel_4320/2400456690.py:1: FutureWarning: Series.fillna with 'method' is deprecated and will raise in a future version. Use obj.ffill() or obj.bfill() instead.\n",
      "  impt_1['Bare_bfill'] = impt_1.Bare_nuclei.fillna(method='bfill')\n"
     ]
    }
   ],
   "source": [
    "impt_1['Bare_bfill'] = impt_1.Bare_nuclei.fillna(method='bfill')"
   ]
  },
  {
   "cell_type": "code",
   "execution_count": 58,
   "id": "9b139914-04b3-41c4-aa73-51acc38e56d6",
   "metadata": {},
   "outputs": [
    {
     "data": {
      "text/html": [
       "<div>\n",
       "<style scoped>\n",
       "    .dataframe tbody tr th:only-of-type {\n",
       "        vertical-align: middle;\n",
       "    }\n",
       "\n",
       "    .dataframe tbody tr th {\n",
       "        vertical-align: top;\n",
       "    }\n",
       "\n",
       "    .dataframe thead th {\n",
       "        text-align: right;\n",
       "    }\n",
       "</style>\n",
       "<table border=\"1\" class=\"dataframe\">\n",
       "  <thead>\n",
       "    <tr style=\"text-align: right;\">\n",
       "      <th></th>\n",
       "      <th>Bare_nuclei_fill</th>\n",
       "      <th>Bare_median</th>\n",
       "      <th>Bare_media</th>\n",
       "      <th>Bare_pad</th>\n",
       "      <th>Bare_bfill</th>\n",
       "      <th>Bare_nuclei</th>\n",
       "    </tr>\n",
       "  </thead>\n",
       "  <tbody>\n",
       "    <tr>\n",
       "      <th>count</th>\n",
       "      <td>699.000000</td>\n",
       "      <td>699.000000</td>\n",
       "      <td>699.000000</td>\n",
       "      <td>699.000000</td>\n",
       "      <td>699.000000</td>\n",
       "      <td>683.000000</td>\n",
       "    </tr>\n",
       "    <tr>\n",
       "      <th>mean</th>\n",
       "      <td>3.463519</td>\n",
       "      <td>3.486409</td>\n",
       "      <td>3.542799</td>\n",
       "      <td>3.529328</td>\n",
       "      <td>3.569385</td>\n",
       "      <td>3.544656</td>\n",
       "    </tr>\n",
       "    <tr>\n",
       "      <th>std</th>\n",
       "      <td>3.640708</td>\n",
       "      <td>3.621929</td>\n",
       "      <td>3.601872</td>\n",
       "      <td>3.635260</td>\n",
       "      <td>3.656330</td>\n",
       "      <td>3.643857</td>\n",
       "    </tr>\n",
       "    <tr>\n",
       "      <th>min</th>\n",
       "      <td>0.000000</td>\n",
       "      <td>1.000000</td>\n",
       "      <td>1.000000</td>\n",
       "      <td>1.000000</td>\n",
       "      <td>1.000000</td>\n",
       "      <td>1.000000</td>\n",
       "    </tr>\n",
       "    <tr>\n",
       "      <th>25%</th>\n",
       "      <td>1.000000</td>\n",
       "      <td>1.000000</td>\n",
       "      <td>1.000000</td>\n",
       "      <td>1.000000</td>\n",
       "      <td>1.000000</td>\n",
       "      <td>1.000000</td>\n",
       "    </tr>\n",
       "    <tr>\n",
       "      <th>50%</th>\n",
       "      <td>1.000000</td>\n",
       "      <td>1.000000</td>\n",
       "      <td>1.000000</td>\n",
       "      <td>1.000000</td>\n",
       "      <td>1.000000</td>\n",
       "      <td>1.000000</td>\n",
       "    </tr>\n",
       "    <tr>\n",
       "      <th>75%</th>\n",
       "      <td>5.000000</td>\n",
       "      <td>5.000000</td>\n",
       "      <td>5.000000</td>\n",
       "      <td>6.000000</td>\n",
       "      <td>7.000000</td>\n",
       "      <td>6.000000</td>\n",
       "    </tr>\n",
       "    <tr>\n",
       "      <th>max</th>\n",
       "      <td>10.000000</td>\n",
       "      <td>10.000000</td>\n",
       "      <td>10.000000</td>\n",
       "      <td>10.000000</td>\n",
       "      <td>10.000000</td>\n",
       "      <td>10.000000</td>\n",
       "    </tr>\n",
       "  </tbody>\n",
       "</table>\n",
       "</div>"
      ],
      "text/plain": [
       "       Bare_nuclei_fill  Bare_median  Bare_media    Bare_pad  Bare_bfill  \\\n",
       "count        699.000000   699.000000  699.000000  699.000000  699.000000   \n",
       "mean           3.463519     3.486409    3.542799    3.529328    3.569385   \n",
       "std            3.640708     3.621929    3.601872    3.635260    3.656330   \n",
       "min            0.000000     1.000000    1.000000    1.000000    1.000000   \n",
       "25%            1.000000     1.000000    1.000000    1.000000    1.000000   \n",
       "50%            1.000000     1.000000    1.000000    1.000000    1.000000   \n",
       "75%            5.000000     5.000000    5.000000    6.000000    7.000000   \n",
       "max           10.000000    10.000000   10.000000   10.000000   10.000000   \n",
       "\n",
       "       Bare_nuclei  \n",
       "count   683.000000  \n",
       "mean      3.544656  \n",
       "std       3.643857  \n",
       "min       1.000000  \n",
       "25%       1.000000  \n",
       "50%       1.000000  \n",
       "75%       6.000000  \n",
       "max      10.000000  "
      ]
     },
     "execution_count": 58,
     "metadata": {},
     "output_type": "execute_result"
    }
   ],
   "source": [
    "impt_1[['Bare_nuclei_fill', 'Bare_median', 'Bare_media', 'Bare_pad','Bare_bfill','Bare_nuclei']].describe()"
   ]
  },
  {
   "cell_type": "code",
   "execution_count": 78,
   "id": "8d8dd81f-3a53-492b-bb26-539b22141758",
   "metadata": {},
   "outputs": [
    {
     "data": {
      "image/png": "[encoded data removed]",
      "text/plain": [
       "<Figure size 640x480 with 1 Axes>"
      ]
     },
     "metadata": {},
     "output_type": "display_data"
    },
    {
     "data": {
      "image/png": "[encoded data removed]",
      "text/plain": [
       "<Figure size 400x400 with 1 Axes>"
      ]
     },
     "metadata": {},
     "output_type": "display_data"
    },
    {
     "data": {
      "image/png": "[encoded data removed]",
      "text/plain": [
       "<Figure size 400x400 with 1 Axes>"
      ]
     },
     "metadata": {},
     "output_type": "display_data"
    },
    {
     "data": {
      "image/png": "[encoded data removed]",
      "text/plain": [
       "<Figure size 400x400 with 1 Axes>"
      ]
     },
     "metadata": {},
     "output_type": "display_data"
    },
    {
     "data": {
      "image/png": "[encoded data removed]",
      "text/plain": [
       "<Figure size 400x400 with 1 Axes>"
      ]
     },
     "metadata": {},
     "output_type": "display_data"
    },
    {
     "data": {
      "image/png": "[encoded data removed]",
      "text/plain": [
       "<Figure size 400x400 with 1 Axes>"
      ]
     },
     "metadata": {},
     "output_type": "display_data"
    }
   ],
   "source": [
    "methods_stadistics = ['Bare_nuclei_fill', 'Bare_median', 'Bare_media', 'Bare_pad','Bare_bfill','Bare_nuclei']\n",
    "\n",
    "for i in methods_stadistics:\n",
    "    plt.hist(impt_1[i], bins=60)\n",
    "    plt.title(impt_1[i].name)\n",
    "    plt.rcParams['figure.figsize'] = (4,4)\n",
    "    plt.show()"
   ]
  },
  {
   "cell_type": "code",
   "execution_count": null,
   "id": "4891f3ac-d71c-42c4-ae1f-ce5a1fdce686",
   "metadata": {},
   "outputs": [],
   "source": []
  }
 ],
 "metadata": {
  "kernelspec": {
   "display_name": "Python 3 (ipykernel)",
   "language": "python",
   "name": "python3"
  },
  "language_info": {
   "codemirror_mode": {
    "name": "ipython",
    "version": 3
   },
   "file_extension": ".py",
   "mimetype": "text/x-python",
   "name": "python",
   "nbconvert_exporter": "python",
   "pygments_lexer": "ipython3",
   "version": "3.12.7"
  }
 },
 "nbformat": 4,
 "nbformat_minor": 5
}
