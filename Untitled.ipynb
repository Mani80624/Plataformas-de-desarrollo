{
 "cells": [
  {
   "cell_type": "code",
   "execution_count": null,
   "id": "31d71856-0aa2-4cee-a543-a91e5fb520f9",
   "metadata": {},
   "outputs": [],
   "source": []
  },
  {
   "cell_type": "code",
   "execution_count": null,
   "id": "7076e0ac-1fad-4d5b-a56e-0da6f65c0c3e",
   "metadata": {},
   "outputs": [],
   "source": [
    "conda install praat-parselmouth"
   ]
  },
  {
   "cell_type": "code",
   "execution_count": null,
   "id": "8132946e-9e61-4c31-aac1-7120b7e2fd79",
   "metadata": {},
   "outputs": [],
   "source": []
  }
 ],
 "metadata": {
  "kernelspec": {
   "display_name": "Python 3 (ipykernel)",
   "language": "python",
   "name": "python3"
  },
  "language_info": {
   "codemirror_mode": {
    "name": "ipython",
    "version": 3
   },
   "file_extension": ".py",
   "mimetype": "text/x-python",
   "name": "python",
   "nbconvert_exporter": "python",
   "pygments_lexer": "ipython3",
   "version": "3.12.7"
  }
 },
 "nbformat": 4,
 "nbformat_minor": 5
}
