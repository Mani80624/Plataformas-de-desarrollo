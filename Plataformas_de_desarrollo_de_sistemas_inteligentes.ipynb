{
 "cells": [
  {
   "cell_type": "markdown",
   "id": "8aededc4-7bd5-4a14-9fc4-dae038fb6f93",
   "metadata": {},
   "source": [
    "# Plataformas de Desarrollo de Sistemas Inteligentes\n",
    "## **Dr. Iván Gallardo Bernal**\n",
    "## Posgrado de Investigación\n",
    "Tiene como principal objetivo profundizar en el desarrollo del saber, con pleno dominio en la **metodología de la investigación científica**, así como de la producción académica, contribuyendo de forma original.\n",
    "\n",
    "## Librerías Python\n",
    "El ecosistema de aprendizaje automático de Python se puede dividir en tres tipos principales de paquetes:\n",
    "- Data fits in memory (los datos en la memoria) -> Pandas, Matplotlib, Sympy, RPy2, SiaseModels, Scikit-learn, Scikit-learn\n",
    "- Optimize your code (optimizar código)\n",
    "- Big data\n",
    "\n",
    "Existen 5 métodos para el tratamiento de datos null\n"
   ]
  },
  {
   "cell_type": "markdown",
   "id": "5edea345-db1e-429b-9474-dce3150aaaa3",
   "metadata": {},
   "source": [
    "El **kernel** es el componente central de un sistema operativo y sirve como interfaz principal entre el hardware físico de la computadora y los procesos que se ejecutan en ella a través del software."
   ]
  },
  {
   "cell_type": "code",
   "execution_count": 10,
   "id": "14a5aeca-fb4c-4cb2-963b-032225401409",
   "metadata": {},
   "outputs": [
    {
     "data": {
      "text/plain": [
       "('Iphone', 'Apple', 'Plata', 'USD 200')"
      ]
     },
     "execution_count": 10,
     "metadata": {},
     "output_type": "execute_result"
    }
   ],
   "source": [
    "Telefono = \"Iphone\", \"Apple\", \"Plata\", \"USD 200\"\n",
    "Telefono"
   ]
  },
  {
   "cell_type": "code",
   "execution_count": 12,
   "id": "44475b99-593c-4581-b0f0-b252b954d6fb",
   "metadata": {},
   "outputs": [
    {
     "data": {
      "text/plain": [
       "tuple"
      ]
     },
     "execution_count": 12,
     "metadata": {},
     "output_type": "execute_result"
    }
   ],
   "source": [
    "type(Telefono)"
   ]
  },
  {
   "cell_type": "code",
   "execution_count": 14,
   "id": "5ba0fbe5-ec1e-4536-a3ac-32c03ebfabb9",
   "metadata": {},
   "outputs": [
    {
     "data": {
      "text/plain": [
       "tuple"
      ]
     },
     "execution_count": 14,
     "metadata": {},
     "output_type": "execute_result"
    }
   ],
   "source": [
    "Telefono = \"Samsung_Galaxy\", \"Samsung\", \"Plata\", \"USD 200\"\n",
    "Telefono\n",
    "type(Telefono)"
   ]
  },
  {
   "cell_type": "markdown",
   "id": "30356775-4bd6-46ea-be90-ab9e61647029",
   "metadata": {},
   "source": [
    "**POO** Se diferencia de los imperativos en que el propio lenguaje incluye abstracciones y sintaxis especifica para el soporte de la programación orientada a objetos.\n",
    "\n",
    "**Encapsulación** No es un concepto propio de POO pero es fundamental, los objetos con la abstracción que proporciona la encapsulación.\n",
    "\n",
    "Consiste en hacer que los datos sean modificados únicamente por las funciones destinadas a tal  efectos. Esto permote que los datos conserven un estado valido y consistente, trata de evitar que cualquier código pueda modificar una estructura de datos con el subsecuente problema de generación de inconsistencia.\n",
    "Se denomina encapsulación, porque los datos y sus estructuras no están accesibles de forma directa, sino que para acceder a los datos o manipularlos se ha de realizar a través de funciones asociadas, con esto los datos estan encapsulados."
   ]
  },
  {
   "cell_type": "code",
   "execution_count": 45,
   "id": "17c644f5-9775-4463-9ab6-2a8e109112d3",
   "metadata": {},
   "outputs": [
    {
     "name": "stdout",
     "output_type": "stream",
     "text": [
      "['Nombre2, edad, sexo']\n",
      " edad\n",
      " edad\n"
     ]
    }
   ],
   "source": [
    "A = [\"Nombre2, edad, sexo\"]\n",
    "print(A)\n",
    "type(A)\n",
    "# slice\n",
    "print(A[0][8:13])\n",
    "# Split convertir el string en una lista\n",
    "jugadores = A[0].split(\",\")\n",
    "print(jugadores[1])"
   ]
  },
  {
   "cell_type": "markdown",
   "id": "f187f7d0-b72d-4c21-a2ec-d868055b95cf",
   "metadata": {},
   "source": [
    "**Abstracción**\n",
    "\n",
    "Es el concepto  por el que un modelo es creado con las propiedades relevantes a observar. Un programa, trata únicamente con las propiedades de un objeto que al programa le interesa.\n",
    "Las clases con la abstracción de los conceptos que maneja la aplicación, pueden ser conseptos que ecistan en el mundo real pero simplificados al tener únicamnete las propiedades relevantes para la aplicación, las clases también puede se conseptos que no tengan existencia dósoca en el mundo real como una lista de elementos, una dirección IP, o un archivo en una PC.\n",
    "\n",
    "**Clase:** Es una plantilla o un modelo que define las propiedades (atributos) y comportamientos (métodos) comunes de un tipo particular de un objeto.\n",
    "\n",
    "**Abstracción:** Se refiere a la capacidad de ocultar los detalles complejos y mostrar solo la información escencial. Permite enfocarse en lo que un objeto hace, cómo lo hace y el lugar donde lo hace.\n",
    "\n",
    "**Encapsulamiento:** Es el principio de agrupar datos y métodos que operan sobre esos datos en una sola inidad (clase) y restringir el acceso directo a algunos de los componentes del objeto. La finalidad de el encapsulamiento es proteger los datos y asegurar que solo puedan ser modificados a través de métodos definidos.\n",
    "\n",
    "**Herencia:** Permite crear una nueva clase (derivada o subclase) a partir de otra existente. Esta hereda los atributos y métodos de la SUPERCLASE.\n",
    "\n",
    "CLASE AUTO(SUPERCLASE) MODELA MARCA, COLOR, SN, ASIENTOS, TIPOS\n",
    "\n",
    "CLASE AUTO_COLORES (SUB CLASE DE AUTO) COLOR, TIPOS.\n",
    "\n",
    "CLASE AUTO_MARCAS (SUBC CLASE DE AUTO) MARCA MODELO\n",
    "\n",
    "**Polimorfismo:** permite que una misma operación o método se comporte de distintas maneras según el contexto esto se logra con el uso de metodos sobre-escritos (OVER-RIDING) y sobrecargados (OVER-LOADING) permite que una función pueda tener múltiples formas despendiendo de las clases que los implementen.\n",
    "\n",
    "**Modularidad:** La POO, promueve la creación de programas submodulares al dividir el código en clases y objetos independientes. Esto facilita la organización del código, la reutilización y el mantenimiento (ver TGS, LVB).\n",
    "\n",
    "**Reusabilidad:** El código generado en la POO es reutilizable debido a la herencia y la creación de clases modulares y reutilizables. Las clases y los objetos pueden ser utilizados en diferentes partes del programa o en proyectos distintos.\n",
    "\n",
    "**Comunicación entre objetos:** Los objetos se comunican entre sí mediante el envío de mensajes, que generalmente son llamadas a métodos, esto permite que un objeto solicite a otro que se realice una acción o cambie su estado.\n",
    "\n",
    "Para definir una función se utiiza la palabra `def`:\n",
    "\n",
    "`def` declara funciones en Python\n",
    "\n",
    "`self` es un parametro que se utiliza en los métodos de una clase en python y a su vez es una referencia al objeto actual que se está creando o utilizando.\n",
    "\n",
    "`self` es una convencio estandas para referirse a la instancia de la clase, y es esencial para acceder a los atributos y métodos de esta instancia.\n",
    "\n",
    "**Instanciar:**\n",
    "\n",
    "**identación** es un tipo de notación secundaria utilizado para mejorar la legitibilidad del código fuente por parte de los programadores, teniendo en cuenta que los compiladores o intérpretes raramente consideran los espacios en blanco entre las sentencias de un programa."
   ]
  },
  {
   "cell_type": "code",
   "execution_count": 58,
   "id": "7099fc8d-9816-4028-a8c8-6a10903212ff",
   "metadata": {},
   "outputs": [
    {
     "name": "stdout",
     "output_type": "stream",
     "text": [
      "Nombre: Manuel, Edad: 24\n"
     ]
    }
   ],
   "source": [
    "class Persona:\n",
    "    def __init__(self, nombre, edad):\n",
    "        self.nombre = nombre\n",
    "        self.edad = edad\n",
    "\n",
    "    def mostrar_info(self):\n",
    "        return f\"Nombre: {self.nombre.title()}, Edad: {self.edad}\"\n",
    "\n",
    "persona1 = Persona('manuel', 24)\n",
    "print(persona1.mostrar_info())"
   ]
  },
  {
   "cell_type": "markdown",
   "id": "47beb670-fb6d-4006-a1fe-91f7a64696fe",
   "metadata": {},
   "source": [
    "Objeto, componente que se aloja en MEMORIA y que tiene asociados una serie de vectores y operaciones que pueden ser realizadas con él. Un objeto en Python puede ser cadena de texto, un númeto real, un diccionario o un objeto propiamente dicho, según el paradigma OOP, creado a partir de una clase determinada. En otros lenguajes de programación se emplea el término estructura de datos para referirse al objeto. Podemos considerar ambos terminos como equivalentes.\n",
    "\n",
    "### Objetos integrados\n",
    "\n",
    "Para facilitar su uso Pthon cuenta con una serie de objetos integrados (built-in) entre las ventajas que nos ofrecen, destaca, el ahorro de tiempo, al no ser necesario construir estas estructuras de datos de forma manual, la facilidad para crear estructuras complejas basadas en ellos y el alto rendimiento y mínimo consumo de memoria en tiempos de ejecución.\n",
    "\n",
    "1. Números\n",
    "2. Conjuntos\n",
    "3. cadenas de texto\n",
    "4. listas\n",
    "5. tuplas\n",
    "6. diccionarios\n",
    "\n",
    "Ademas, se cuenta con un tipo de objeto especial llamado **None** que se emplea para asignar un valor nulo. sifnifica que es un valor desconocido, indefinido o no inicializado [no hay nada].\n",
    "\n",
    "### Tipado dinámico\n",
    "\n",
    "Python al declarar una variable no se puede indicar su tipo, en ejecuciín el tio será asignado a la variable, esto es el denominado tipado dinamico DT.\n",
    "\n",
    "### -¿Cómo diferencia el intérprete entre diferentes tipos y estructuras de datos?\n",
    "\n",
    "La respuesta se encuentra en el funcionamiento interno que realiza el interprete de la memoria. Cuando se asigna a una variable un valor, el interprete, en tienpo de ehecución, realiza un proceso que consiste en varios pasos:\n",
    "\n",
    "1. Se crea un objeto en la memoria con el valor asignado\n",
    "2. Se comprueba de que exista la variable, si no es así se crea una referencia que enlaza la nueva variable con el objeto.\n",
    "3. Si por el contrario ya existe la variable, entonces, se cambia la referencia hacia el objeto creado.\n",
    "\n",
    "### Tanto las variables como los objetos se almacenan en diferentes zonas de memoria\n",
    "Gracias al tipado dinámico podemos, en el mismo bloque de código, asignar diferentes tipos de datos a la misma variable, siendo el interprete en tipo de ejecución el que se encargará de crear los objetos y referencias que sean necesarios."
   ]
  },
  {
   "cell_type": "code",
   "execution_count": 10,
   "id": "06143a5b-2ca3-493d-9de8-ce9efa07a1ea",
   "metadata": {},
   "outputs": [
    {
     "name": "stdout",
     "output_type": "stream",
     "text": [
      "[Top 10]\n",
      "/home/manuel/anaconda3/lib/python3.12/site-packages/IPython/core/compilerop.py:86: size=12.1 KiB, count=151, average=82 B\n",
      "/home/manuel/anaconda3/lib/python3.12/codeop.py:126: size=6875 B, count=64, average=107 B\n",
      "/home/manuel/anaconda3/lib/python3.12/site-packages/IPython/core/compilerop.py:174: size=4512 B, count=54, average=84 B\n",
      "/home/manuel/anaconda3/lib/python3.12/json/decoder.py:353: size=3370 B, count=28, average=120 B\n",
      "/home/manuel/anaconda3/lib/python3.12/tokenize.py:576: size=2856 B, count=51, average=56 B\n",
      "/home/manuel/anaconda3/lib/python3.12/site-packages/IPython/core/history.py:782: size=1820 B, count=2, average=910 B\n",
      "/home/manuel/anaconda3/lib/python3.12/site-packages/IPython/core/history.py:783: size=1562 B, count=1, average=1562 B\n",
      "/home/manuel/anaconda3/lib/python3.12/site-packages/zmq/sugar/attrsettr.py:44: size=1269 B, count=27, average=47 B\n",
      "/home/manuel/anaconda3/lib/python3.12/site-packages/traitlets/traitlets.py:731: size=1256 B, count=20, average=63 B\n",
      "/home/manuel/anaconda3/lib/python3.12/site-packages/zmq/sugar/socket.py:808: size=1056 B, count=6, average=176 B\n"
     ]
    }
   ],
   "source": [
    "import tracemalloc # inicia el rastreo de las asignaciones de memoria en Python\n",
    "tracemalloc.start()\n",
    "\n",
    "snapshot = tracemalloc.take_snapshot() # Toma una instancia de las asignaciones\n",
    "top_stats = snapshot.statistics('lineno') # Recopilamos estadísticas de asignación\n",
    "\n",
    "print(\"[Top 10]\") # El ciclo for imprime las 10 primeras estadísticas \n",
    "for stat in top_stats[:10]:\n",
    "    print(stat)"
   ]
  },
  {
   "cell_type": "code",
   "execution_count": 14,
   "id": "ec723d7a-4941-414e-bd5b-4549f9fc9548",
   "metadata": {},
   "outputs": [
    {
     "data": {
      "text/plain": [
       "[9, 8, 7]"
      ]
     },
     "execution_count": 14,
     "metadata": {},
     "output_type": "execute_result"
    }
   ],
   "source": [
    "lista_1 = [9,8,7]\n",
    "lista_2 = lista_1\n",
    "lista_2"
   ]
  },
  {
   "cell_type": "code",
   "execution_count": 16,
   "id": "16fa51e7-4a34-4e62-a1e1-6c500fd14a4b",
   "metadata": {},
   "outputs": [
    {
     "data": {
      "text/plain": [
       "list"
      ]
     },
     "execution_count": 16,
     "metadata": {},
     "output_type": "execute_result"
    }
   ],
   "source": [
    "type(lista_2)"
   ]
  },
  {
   "cell_type": "markdown",
   "id": "c8484d0c-3313-490e-be02-1049df9f1a7f",
   "metadata": {},
   "source": [
    "Los operadores resultan importantes para trabajar los números\n",
    "\n",
    "1. Operadores aritmeticos: suma, resta, multiplicación y división (entera y real)\n",
    "2. Operadores de bajo nivel y entre bits"
   ]
  },
  {
   "cell_type": "code",
   "execution_count": 19,
   "id": "3e10c457-e9af-4bfa-9d00-94b2f111c5c7",
   "metadata": {},
   "outputs": [
    {
     "name": "stdout",
     "output_type": "stream",
     "text": [
      "AND:\t 0b1100 & 0b1010 = 0b1000\n",
      "OR:\t 0b1100 | 0b1010 = 0b1110\n",
      "NOT:\t ~0b1100 = -0b1101\n"
     ]
    }
   ],
   "source": [
    "a = 0b1100 # 12 1x2^2+0x2^1+0x2^0\n",
    "b = 0b1010 # 10\n",
    "\n",
    "# Generar\n",
    "and_result = a & b\n",
    "or_result = a | b\n",
    "not_result = ~a\n",
    "\n",
    "# imprimimod los resultados:\n",
    "print(f\"AND:\\t {bin(a)} & {bin(b)} = {bin(and_result)}\")\n",
    "print(f\"OR:\\t {bin(a)} | {bin(b)} = {bin(or_result)}\")\n",
    "print(f\"NOT:\\t ~{bin(a)} = {bin(not_result)}\")"
   ]
  },
  {
   "cell_type": "code",
   "execution_count": 13,
   "id": "1c2743a8-86ab-4d33-961b-de466b9fca7c",
   "metadata": {},
   "outputs": [
    {
     "name": "stdout",
     "output_type": "stream",
     "text": [
      "Suma: 0b10110\n",
      "Resta: 0b10\n",
      "Producto: 0b1111000\n"
     ]
    }
   ],
   "source": [
    "# Suma \n",
    "print(f\"Suma: {bin(a+b)}\")\n",
    "print(f\"Resta: {bin(a-b)}\")\n",
    "print(f\"Producto: {bin(a*b)}\")"
   ]
  },
  {
   "cell_type": "markdown",
   "id": "f80b87f2-8caf-46c4-8881-a1b92575147a",
   "metadata": {},
   "source": [
    "Un modulo en Python es un archivo que contiene variables globales, funciones, clases y sentencias ejecutables que se pueden utilizar en otros programas para su extensión"
   ]
  },
  {
   "cell_type": "code",
   "execution_count": 24,
   "id": "1ac55f49-13ff-45bf-971d-7ba78971657f",
   "metadata": {},
   "outputs": [],
   "source": [
    "import math as m # Import agrefa módulos y librerias"
   ]
  },
  {
   "cell_type": "code",
   "execution_count": 26,
   "id": "5356fa04-cb29-42b0-9b36-78353448ca4e",
   "metadata": {},
   "outputs": [
    {
     "data": {
      "text/plain": [
       "2.23606797749979"
      ]
     },
     "execution_count": 26,
     "metadata": {},
     "output_type": "execute_result"
    }
   ],
   "source": [
    "m.sqrt(5)"
   ]
  },
  {
   "cell_type": "code",
   "execution_count": 28,
   "id": "3bd597de-ba3b-40c5-a71a-d0a37755ae0e",
   "metadata": {},
   "outputs": [
    {
     "data": {
      "text/plain": [
       "'0x6f'"
      ]
     },
     "execution_count": 28,
     "metadata": {},
     "output_type": "execute_result"
    }
   ],
   "source": [
    "hex(111)"
   ]
  },
  {
   "cell_type": "code",
   "execution_count": 30,
   "id": "f00bb83a-e6f0-4bf1-98a1-e4f09cd88537",
   "metadata": {},
   "outputs": [
    {
     "data": {
      "text/plain": [
       "'0o13'"
      ]
     },
     "execution_count": 30,
     "metadata": {},
     "output_type": "execute_result"
    }
   ],
   "source": [
    "oct(11)"
   ]
  },
  {
   "cell_type": "code",
   "execution_count": 32,
   "id": "817ca218-cbd6-4a72-b2f0-85d318a550be",
   "metadata": {},
   "outputs": [
    {
     "data": {
      "text/plain": [
       "'0b1110'"
      ]
     },
     "execution_count": 32,
     "metadata": {},
     "output_type": "execute_result"
    }
   ],
   "source": [
    "bin(14)"
   ]
  },
  {
   "cell_type": "code",
   "execution_count": 34,
   "id": "6fea0f0f-6816-46ee-ac45-978a9a158e16",
   "metadata": {},
   "outputs": [
    {
     "name": "stdout",
     "output_type": "stream",
     "text": [
      "El máximo común divisor de 24 y 36 es 12\n"
     ]
    }
   ],
   "source": [
    "x = 24 \n",
    "y= 36\n",
    "resultado = m.gcd(x,y)\n",
    "print(f\"El máximo común divisor de {x} y {y} es {resultado}\")"
   ]
  },
  {
   "cell_type": "code",
   "execution_count": 36,
   "id": "8bf6c99c-7225-49d0-a7e1-a5962c829e2b",
   "metadata": {},
   "outputs": [
    {
     "name": "stdout",
     "output_type": "stream",
     "text": [
      "La suma de la lista [1, 2, 3, 4, 5, 6] es 21\n"
     ]
    }
   ],
   "source": [
    "numeros = list(range(1,7))\n",
    "resultado = sum(numeros)\n",
    "print(f\"La suma de la lista {numeros} es {resultado}\")"
   ]
  },
  {
   "cell_type": "markdown",
   "id": "e41846d5-87fe-4eb1-94e2-d2329c42267d",
   "metadata": {},
   "source": [
    "**Conjunto**\n",
    "\n",
    "Definir y operar con conjuntos matemáticos también es posible en Python, la función para crear un conjunto se llama **set()** y acepta como argumentos una serie de valores pasados entre comas, como si se tratara de una cadena de texto.\n",
    "\n",
    "`set()` o `{}`"
   ]
  },
  {
   "cell_type": "code",
   "execution_count": 39,
   "id": "710d41a3-e644-47d2-bc64-1c3141e79c23",
   "metadata": {},
   "outputs": [
    {
     "data": {
      "text/plain": [
       "{'1', '2', '3', '4', '5', '6', '7'}"
      ]
     },
     "execution_count": 39,
     "metadata": {},
     "output_type": "execute_result"
    }
   ],
   "source": [
    "conjunto = set(\"1234567\")\n",
    "conjunto"
   ]
  },
  {
   "cell_type": "code",
   "execution_count": 41,
   "id": "05fafa3d-aed0-4082-9eec-397d3c194de8",
   "metadata": {},
   "outputs": [
    {
     "data": {
      "text/plain": [
       "set"
      ]
     },
     "execution_count": 41,
     "metadata": {},
     "output_type": "execute_result"
    }
   ],
   "source": [
    "type(conjunto)"
   ]
  },
  {
   "cell_type": "code",
   "execution_count": 44,
   "id": "a501aa6d-7e3e-4b85-b87a-e26ee5464edc",
   "metadata": {},
   "outputs": [
    {
     "data": {
      "text/plain": [
       "('5', '6', '7')"
      ]
     },
     "execution_count": 44,
     "metadata": {},
     "output_type": "execute_result"
    }
   ],
   "source": [
    "conjunto4 = \"5\", \"6\", \"7\"\n",
    "conjunto4"
   ]
  },
  {
   "cell_type": "code",
   "execution_count": 46,
   "id": "23d8e6a1-998e-4718-94bf-ea2997d5e508",
   "metadata": {},
   "outputs": [
    {
     "data": {
      "text/plain": [
       "tuple"
      ]
     },
     "execution_count": 46,
     "metadata": {},
     "output_type": "execute_result"
    }
   ],
   "source": [
    "type(conjunto4)"
   ]
  },
  {
   "cell_type": "markdown",
   "id": "c6bfebea-2b4a-4abf-a147-86957fd09398",
   "metadata": {},
   "source": [
    "Diferencias entre lista y tupla:\n",
    "\n",
    "**Listas:** son mutables, significa que puedes modificar su contenido despues de crearlas, esto incluye, agregar, eliminar o cambiar elementos.\n",
    "\n",
    "**sintaxis:** se definen usando corchetes []\n",
    "\n",
    "**uso:** se utilizan cuando una colección de datos que puede cambiar a los larfo de tu programa, como una lista de tareas pendientes que puedes agregar o eliminar (checklist)\n",
    "\n",
    "**Tuplas**\n",
    "\n",
    "**Inmutables:** es decir, no se pueden modificar una vez creadas, esto implica que no puedes eliminar ni cambiar elementos dentro de ellas.\n",
    "\n",
    "**Sintaxis:** se define usando `()`\n",
    "\n",
    "**Uso:** Se suelen usar para almacenar datos que no deberían cambiar, como las coordenadas de un punto KML, o información que quieres proteger de modificaciones accidentales.\n",
    "\n",
    "**Listas:** son útiles para colecciones de datos que cambian con frecuencia\n",
    "\n",
    "**Tuplas:** son adecuandas para datos constantes que deben mantenerse intactos durante la ejecución de un programa.\n",
    "\n",
    "Supongamos que un cliente solicita un programa que permita hacer una gestión de pendidos de un prducto específico.\n",
    "1. Un pedido tiene una identificación o dentificador (único)\n",
    "2. Los productos comprados\n",
    "3. Dirección de envío.\n",
    "\n",
    "De estos datos\n",
    "\n",
    "* usaremos una tupla para almacenar la dirección de envío\n",
    "* usaremos una lista para almacenar los productos ya que el cliente puede agregar o eliminarlos del carrito antes de finalizar su pedido\n",
    "* "
   ]
  },
  {
   "cell_type": "code",
   "execution_count": 51,
   "id": "4077165a-2430-4475-9a88-3105bd03841a",
   "metadata": {},
   "outputs": [
    {
     "name": "stdout",
     "output_type": "stream",
     "text": [
      "Dirección\n",
      "Colonia: indeco\n",
      "Calle: huitzuco\n",
      "Productos:\n",
      "\taudifonos\n",
      "\tssd\n",
      "\ttelefono\n",
      "\tmochila\n"
     ]
    }
   ],
   "source": [
    "direccion = ('indeco', 'huitzuco')\n",
    "productos = ['audifonos', 'ssd', 'telefono', 'mochila']\n",
    "\n",
    "print(f\"Dirección\\nColonia: {direccion[0]}\\nCalle: {direccion[1]}\")\n",
    "print(\"Productos:\")\n",
    "for producto in productos:\n",
    "    print(f\"\\t{producto}\")"
   ]
  },
  {
   "cell_type": "code",
   "execution_count": 55,
   "id": "660755bc-6982-46f6-811e-d7554a704473",
   "metadata": {},
   "outputs": [
    {
     "name": "stdin",
     "output_type": "stream",
     "text": [
      "Ingresa tu dirección:\n",
      " Hola\n"
     ]
    },
    {
     "data": {
      "text/plain": [
       "tuple"
      ]
     },
     "execution_count": 55,
     "metadata": {},
     "output_type": "execute_result"
    }
   ],
   "source": [
    "dire = (input(\"Ingresa tu dirección:\\n\"),)\n",
    "type(dire)"
   ]
  },
  {
   "cell_type": "markdown",
   "id": "bc29e40c-a923-4f79-a76a-de4c06aa7174",
   "metadata": {},
   "source": [
    "### Cadenas de texto\n"
   ]
  },
  {
   "cell_type": "code",
   "execution_count": 2,
   "id": "4ad04c39-3e05-42b4-a6fd-7dabba8db40f",
   "metadata": {},
   "outputs": [
    {
     "data": {
      "text/plain": [
       "str"
      ]
     },
     "execution_count": 2,
     "metadata": {},
     "output_type": "execute_result"
    }
   ],
   "source": [
    "cadena = \"Esto es una cadena de Texto\"\n",
    "cadena\n",
    "type(cadena)"
   ]
  },
  {
   "cell_type": "code",
   "execution_count": 6,
   "id": "551b312a-4ad5-4deb-bf8e-d9f2f08da915",
   "metadata": {},
   "outputs": [
    {
     "data": {
      "text/plain": [
       "'Esta es una cadena de texto\\ntiene mpas de\\nuna línea\\nson 4 distintas'"
      ]
     },
     "execution_count": 6,
     "metadata": {},
     "output_type": "execute_result"
    }
   ],
   "source": [
    "cadena = \"\"\"Esta es una cadena de texto\n",
    "tiene mpas de\n",
    "una línea\n",
    "son 4 distintas\"\"\"\n",
    "cadena"
   ]
  },
  {
   "cell_type": "markdown",
   "id": "72d67f61-570a-4be0-995c-4ac36df5f425",
   "metadata": {},
   "source": [
    "Por defecto todas las cadenas de texto son UNICODE, que es un estandar de codificación de caracteres diseñado para facilitar el tratamiento informatico, transmisión y visualización de textos\n",
    " de diversos idiomas y disciplinas técnicas, además de textos de lenguas muertas.\n",
    "\n",
    " Así, cualquier **string** declarado en Python será automáticamente de tipo **Unicode**, sus tipos son:\n",
    " 1. Unicode\n",
    " 2. Byte\n",
    " 3. Bytearray\n",
    "\n",
    "* Byte\n",
    "\n",
    "El contenido se compone de una secuencia de caracteres. Los caracteres representan letras del alfabeto, puntuación, ect. \n",
    "\n",
    "Para declarar un String de tipo byte, basta con anteponer la letra b antees de la cadena"
   ]
  },
  {
   "cell_type": "code",
   "execution_count": 9,
   "id": "b14b5794-e00d-4dfd-973f-6d7b46b3ff4e",
   "metadata": {},
   "outputs": [
    {
     "data": {
      "text/plain": [
       "bytes"
      ]
     },
     "execution_count": 9,
     "metadata": {},
     "output_type": "execute_result"
    }
   ],
   "source": [
    "nombre = b'hola'\n",
    "type(nombre)"
   ]
  },
  {
   "cell_type": "markdown",
   "id": "29f5b648-1963-4eb7-9f74-bd2fd5d026b3",
   "metadata": {},
   "source": [
    "El tipo bytearray es una versión **Mutable** del tipo byte. La declaración de un tipo bytearray debe hacerse utilizando la función integrada que nos ofrece el interprete, Ademas, es imprescindible indicar el tipo de codificación que deseamos emplear"
   ]
  },
  {
   "cell_type": "code",
   "execution_count": 14,
   "id": "c38b0a5a-a28b-4048-a962-c60daf88749c",
   "metadata": {},
   "outputs": [
    {
     "data": {
      "text/plain": [
       "bytearray(b'M\\xc9XICO')"
      ]
     },
     "execution_count": 14,
     "metadata": {},
     "output_type": "execute_result"
    }
   ],
   "source": [
    "lat = bytearray(\"MÉXICO\", # Contenido\n",
    "                \"latin1\") # tipo de formato\n",
    "lat"
   ]
  },
  {
   "cell_type": "code",
   "execution_count": null,
   "id": "341f700c-dddf-4b52-9f32-c95c065b79c9",
   "metadata": {},
   "outputs": [],
   "source": [
    "str = \"México\"\n",
    "array1 = bytearray(str, 'utf-8')\n",
    "print(array1) # UTF-8 es un sistema de codificación de caracteres diseñado\n",
    "            # Para representar cualquier caracter UNICODE, este es \n",
    "            # mas cúmun de la web y permite que los archivos\n",
    "            # de texto contenfan caracteres de diferentes idiomas y simvolos sin problemas de compatibilidad."
   ]
  },
  {
   "cell_type": "markdown",
   "id": "c823ddef-a185-4157-b2cf-df4de9d335d7",
   "metadata": {},
   "source": [
    "`encode()`: transforma un tipo string a un tipo byte"
   ]
  },
  {
   "cell_type": "code",
   "execution_count": 23,
   "id": "8a17bb19-2405-4aaf-8663-448518dbdc28",
   "metadata": {},
   "outputs": [
    {
     "data": {
      "text/plain": [
       "b' es de tipo str'"
      ]
     },
     "execution_count": 23,
     "metadata": {},
     "output_type": "execute_result"
    }
   ],
   "source": [
    "cad1 = ' es de tipo str'\n",
    "cad1.encode()"
   ]
  },
  {
   "cell_type": "code",
   "execution_count": 27,
   "id": "d97cf9cd-ed70-4593-805a-364f60a53521",
   "metadata": {},
   "outputs": [
    {
     "data": {
      "text/plain": [
       "b'soy una cadena de texto'"
      ]
     },
     "execution_count": 27,
     "metadata": {},
     "output_type": "execute_result"
    }
   ],
   "source": [
    "string = \"soy una cadena de texto\"\n",
    "string.encode()"
   ]
  },
  {
   "cell_type": "markdown",
   "id": "97c0c641-c5e0-48e6-80f6-a11476c54e7f",
   "metadata": {},
   "source": [
    "`decode()`: transforma un tipo byte a tipo str"
   ]
  },
  {
   "cell_type": "code",
   "execution_count": 30,
   "id": "af1eead6-f03b-42f0-be08-fcb6a3503e77",
   "metadata": {},
   "outputs": [
    {
     "data": {
      "text/plain": [
       "'es de tipo bype'"
      ]
     },
     "execution_count": 30,
     "metadata": {},
     "output_type": "execute_result"
    }
   ],
   "source": [
    "cad2 = b\"es de tipo bype\"\n",
    "cad2.decode()"
   ]
  },
  {
   "cell_type": "code",
   "execution_count": 44,
   "id": "28041044-4370-4667-be38-35cf3eb89318",
   "metadata": {},
   "outputs": [
    {
     "data": {
      "text/plain": [
       "'!Hola, mundo!✨'"
      ]
     },
     "execution_count": 44,
     "metadata": {},
     "output_type": "execute_result"
    }
   ],
   "source": [
    "texto = \"!Hola, mundo!✨\"\n",
    "texto"
   ]
  },
  {
   "cell_type": "code",
   "execution_count": 46,
   "id": "60e869a1-3d75-4a11-98c1-03adf016d850",
   "metadata": {},
   "outputs": [
    {
     "name": "stdout",
     "output_type": "stream",
     "text": [
      "texto codificado en bytes b'!Hola, mundo!\\xe2\\x9c\\xa8'\n"
     ]
    }
   ],
   "source": [
    "# Codificar la codena en UTF-8 (de str a bytes)\n",
    "texto_codificado =  texto.encode(\"utf-8\")\n",
    "print(\"texto codificado en bytes\", texto_codificado)"
   ]
  },
  {
   "cell_type": "code",
   "execution_count": 48,
   "id": "b7747e23-ff13-4924-a728-fafbebf9a436",
   "metadata": {},
   "outputs": [
    {
     "name": "stdout",
     "output_type": "stream",
     "text": [
      "Texto decodificado !Hola, mundo!✨\n"
     ]
    }
   ],
   "source": [
    "# Codificar de bytes a cadenas en UTF-8 \n",
    "texto_decodificado = texto_codificado.decode(\"utf-8\")\n",
    "print(\"Texto decodificado\", texto_decodificado)"
   ]
  },
  {
   "cell_type": "markdown",
   "id": "91dfb1af-7db2-43c2-a76f-25b35f80382e",
   "metadata": {},
   "source": [
    "Métodos de cadenas de texto en Python\n",
    "\n",
    "Estos métodos se aplican directamente a una cadena y devuelven una nueva cadena la mayoría de los casos)"
   ]
  },
  {
   "cell_type": "markdown",
   "id": "92aac4a2-9222-4200-aa52-1ca7b32982b8",
   "metadata": {},
   "source": [
    "Una función es un fragmento de código con un nombre asociado que realiza una serie de tareas y devuelve un valor.\n"
   ]
  }
 ],
 "metadata": {
  "kernelspec": {
   "display_name": "Python 3 (ipykernel)",
   "language": "python",
   "name": "python3"
  },
  "language_info": {
   "codemirror_mode": {
    "name": "ipython",
    "version": 3
   },
   "file_extension": ".py",
   "mimetype": "text/x-python",
   "name": "python",
   "nbconvert_exporter": "python",
   "pygments_lexer": "ipython3",
   "version": "3.12.7"
  }
 },
 "nbformat": 4,
 "nbformat_minor": 5
}
